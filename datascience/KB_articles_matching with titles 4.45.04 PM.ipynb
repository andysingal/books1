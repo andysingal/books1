{
 "cells": [
  {
   "cell_type": "code",
   "execution_count": 120,
   "id": "bb40531b",
   "metadata": {},
   "outputs": [
    {
     "name": "stdout",
     "output_type": "stream",
     "text": [
      "Requirement already satisfied: contractions in ./opt/anaconda3/lib/python3.9/site-packages (0.1.72)\n",
      "Requirement already satisfied: textsearch>=0.0.21 in ./opt/anaconda3/lib/python3.9/site-packages (from contractions) (0.0.21)\n",
      "Requirement already satisfied: anyascii in ./opt/anaconda3/lib/python3.9/site-packages (from textsearch>=0.0.21->contractions) (0.3.1)\n",
      "Requirement already satisfied: pyahocorasick in ./opt/anaconda3/lib/python3.9/site-packages (from textsearch>=0.0.21->contractions) (1.4.4)\n",
      "Collecting autocorrect\n",
      "  Downloading autocorrect-2.6.1.tar.gz (622 kB)\n",
      "\u001b[2K     \u001b[90m━━━━━━━━━━━━━━━━━━━━━━━━━━━━━━━━━━━━━━━\u001b[0m \u001b[32m622.8/622.8 kB\u001b[0m \u001b[31m2.2 MB/s\u001b[0m eta \u001b[36m0:00:00\u001b[0m00:01\u001b[0m00:01\u001b[0m\n",
      "\u001b[?25h  Preparing metadata (setup.py) ... \u001b[?25ldone\n",
      "\u001b[?25hBuilding wheels for collected packages: autocorrect\n",
      "  Building wheel for autocorrect (setup.py) ... \u001b[?25ldone\n",
      "\u001b[?25h  Created wheel for autocorrect: filename=autocorrect-2.6.1-py3-none-any.whl size=622364 sha256=1eb24ec7d2bcd7c2f40846c3ebfcbd4413463e8909cc1611c22d51cc117ea433\n",
      "  Stored in directory: /Users/ankush.singal/Library/Caches/pip/wheels/ab/0f/23/3c010c3fd877b962146e7765f9e9b08026cac8b035094c5750\n",
      "Successfully built autocorrect\n",
      "Installing collected packages: autocorrect\n",
      "Successfully installed autocorrect-2.6.1\n"
     ]
    }
   ],
   "source": [
    "!pip install contractions\n",
    "!pip install autocorrect"
   ]
  },
  {
   "cell_type": "code",
   "execution_count": 134,
   "id": "b9dfd48e",
   "metadata": {},
   "outputs": [],
   "source": [
    "import pandas as pd\n",
    "import contractions\n",
    "from autocorrect import Speller\n",
    "\n",
    "from tqdm.notebook import tqdm_notebook\n",
    "\n",
    "#initial tqdm for pandas.apply functions\n",
    "tqdm_notebook.pandas()\n",
    "\n",
    "\n"
   ]
  },
  {
   "cell_type": "code",
   "execution_count": 135,
   "id": "95f9f14c",
   "metadata": {
    "scrolled": true
   },
   "outputs": [
    {
     "data": {
      "text/html": [
       "<div>\n",
       "<style scoped>\n",
       "    .dataframe tbody tr th:only-of-type {\n",
       "        vertical-align: middle;\n",
       "    }\n",
       "\n",
       "    .dataframe tbody tr th {\n",
       "        vertical-align: top;\n",
       "    }\n",
       "\n",
       "    .dataframe thead th {\n",
       "        text-align: right;\n",
       "    }\n",
       "</style>\n",
       "<table border=\"1\" class=\"dataframe\">\n",
       "  <thead>\n",
       "    <tr style=\"text-align: right;\">\n",
       "      <th></th>\n",
       "      <th>attributes</th>\n",
       "      <th>Subject</th>\n",
       "      <th>Description</th>\n",
       "      <th>IsClosed</th>\n",
       "      <th>matches</th>\n",
       "      <th>exurl</th>\n",
       "    </tr>\n",
       "  </thead>\n",
       "  <tbody>\n",
       "    <tr>\n",
       "      <th>5008Y00001uS4GMQA0</th>\n",
       "      <td>{'type': 'Case', 'url': '/services/data/v47.0/...</td>\n",
       "      <td>[ARR] [Sev B] SR-2205300030001910 title: DBFS ...</td>\n",
       "      <td>The cx wants to upload files using DBFS API 2....</td>\n",
       "      <td>True</td>\n",
       "      <td>[https://docs.microsoft.com/en-us/azure/databr...</td>\n",
       "      <td>NaN</td>\n",
       "    </tr>\n",
       "    <tr>\n",
       "      <th>5008Y00001uSAYMQA4</th>\n",
       "      <td>{'type': 'Case', 'url': '/services/data/v47.0/...</td>\n",
       "      <td>Few S3 folders were dropped in production</td>\n",
       "      <td>Hi Team, On production in our freshworks-it-bu...</td>\n",
       "      <td>True</td>\n",
       "      <td>[https://docs.databricks.com/delta/delta-utili...</td>\n",
       "      <td>NaN</td>\n",
       "    </tr>\n",
       "    <tr>\n",
       "      <th>5008Y00001uSEGLQA4</th>\n",
       "      <td>{'type': 'Case', 'url': '/services/data/v47.0/...</td>\n",
       "      <td>Upload table issue</td>\n",
       "      <td>Hello, We are testing to upload a table with a...</td>\n",
       "      <td>True</td>\n",
       "      <td>[https://docs.databricks.com/data/data-sources...</td>\n",
       "      <td>https://dbc-af2bbc71-2647.cloud.databricks.com</td>\n",
       "    </tr>\n",
       "    <tr>\n",
       "      <th>5008Y00001uS7sxQAC</th>\n",
       "      <td>{'type': 'Case', 'url': '/services/data/v47.0/...</td>\n",
       "      <td>spatial join not working</td>\n",
       "      <td>Hi, We have a daily job that tag some events w...</td>\n",
       "      <td>True</td>\n",
       "      <td>[https://docs.databricks.com/delta/join-perfor...</td>\n",
       "      <td>https://dbc-f1098e44-02b2.cloud.databricks.com</td>\n",
       "    </tr>\n",
       "    <tr>\n",
       "      <th>5008Y00001uSFfqQAG</th>\n",
       "      <td>{'type': 'Case', 'url': '/services/data/v47.0/...</td>\n",
       "      <td>Unable to import The installed R library</td>\n",
       "      <td>Hello Team, We have successfully installed R l...</td>\n",
       "      <td>True</td>\n",
       "      <td>[https://kb.databricks.com/r/install-rjava-rjd...</td>\n",
       "      <td>NaN</td>\n",
       "    </tr>\n",
       "  </tbody>\n",
       "</table>\n",
       "</div>"
      ],
      "text/plain": [
       "                                                           attributes  \\\n",
       "5008Y00001uS4GMQA0  {'type': 'Case', 'url': '/services/data/v47.0/...   \n",
       "5008Y00001uSAYMQA4  {'type': 'Case', 'url': '/services/data/v47.0/...   \n",
       "5008Y00001uSEGLQA4  {'type': 'Case', 'url': '/services/data/v47.0/...   \n",
       "5008Y00001uS7sxQAC  {'type': 'Case', 'url': '/services/data/v47.0/...   \n",
       "5008Y00001uSFfqQAG  {'type': 'Case', 'url': '/services/data/v47.0/...   \n",
       "\n",
       "                                                              Subject  \\\n",
       "5008Y00001uS4GMQA0  [ARR] [Sev B] SR-2205300030001910 title: DBFS ...   \n",
       "5008Y00001uSAYMQA4          Few S3 folders were dropped in production   \n",
       "5008Y00001uSEGLQA4                                 Upload table issue   \n",
       "5008Y00001uS7sxQAC                           spatial join not working   \n",
       "5008Y00001uSFfqQAG           Unable to import The installed R library   \n",
       "\n",
       "                                                          Description  \\\n",
       "5008Y00001uS4GMQA0  The cx wants to upload files using DBFS API 2....   \n",
       "5008Y00001uSAYMQA4  Hi Team, On production in our freshworks-it-bu...   \n",
       "5008Y00001uSEGLQA4  Hello, We are testing to upload a table with a...   \n",
       "5008Y00001uS7sxQAC  Hi, We have a daily job that tag some events w...   \n",
       "5008Y00001uSFfqQAG  Hello Team, We have successfully installed R l...   \n",
       "\n",
       "                    IsClosed  \\\n",
       "5008Y00001uS4GMQA0      True   \n",
       "5008Y00001uSAYMQA4      True   \n",
       "5008Y00001uSEGLQA4      True   \n",
       "5008Y00001uS7sxQAC      True   \n",
       "5008Y00001uSFfqQAG      True   \n",
       "\n",
       "                                                              matches  \\\n",
       "5008Y00001uS4GMQA0  [https://docs.microsoft.com/en-us/azure/databr...   \n",
       "5008Y00001uSAYMQA4  [https://docs.databricks.com/delta/delta-utili...   \n",
       "5008Y00001uSEGLQA4  [https://docs.databricks.com/data/data-sources...   \n",
       "5008Y00001uS7sxQAC  [https://docs.databricks.com/delta/join-perfor...   \n",
       "5008Y00001uSFfqQAG  [https://kb.databricks.com/r/install-rjava-rjd...   \n",
       "\n",
       "                                                             exurl  \n",
       "5008Y00001uS4GMQA0                                             NaN  \n",
       "5008Y00001uSAYMQA4                                             NaN  \n",
       "5008Y00001uSEGLQA4  https://dbc-af2bbc71-2647.cloud.databricks.com  \n",
       "5008Y00001uS7sxQAC  https://dbc-f1098e44-02b2.cloud.databricks.com  \n",
       "5008Y00001uSFfqQAG                                             NaN  "
      ]
     },
     "execution_count": 135,
     "metadata": {},
     "output_type": "execute_result"
    }
   ],
   "source": [
    "#https://stackoverflow.com/questions/43332057/pandas-strip-white-space\n",
    "df = pd.read_json('CasesWithLinksInComments.json', orient='index')\n",
    "df.rename(\n",
    "    columns=({'Unnamed: 0': 'Session_Id'}), \n",
    "    inplace=True,\n",
    ")\n",
    "df.replace(r'\\s+',' ', regex = True, inplace = True) #remove spaces(/r/n in the description include whitespace)\n",
    "df['exurl'] = df.Description.str.extract(r'(https?://(?:[-\\w.]|(?:%[\\da-fA-F]{2}))+)') #links within the description\n",
    "df.head()"
   ]
  },
  {
   "cell_type": "markdown",
   "id": "7b77e0f2",
   "metadata": {},
   "source": [
    "# LOWERING THE CASE"
   ]
  },
  {
   "cell_type": "code",
   "execution_count": 136,
   "id": "b92e31bb",
   "metadata": {},
   "outputs": [],
   "source": [
    "df['Subject'] = df['Subject'].apply(lambda x: x.lower())\n",
    "df['Description'] = df['Description'].apply(lambda x: x.lower())"
   ]
  },
  {
   "cell_type": "markdown",
   "id": "64d4ccec",
   "metadata": {},
   "source": [
    "# REMOVING CONTRACTIONS"
   ]
  },
  {
   "cell_type": "code",
   "execution_count": 137,
   "id": "15d16e4e",
   "metadata": {},
   "outputs": [],
   "source": [
    "def cont_expand(text):\n",
    "    \"\"\" Expand contractions(i.e. don't -> do not, can't -> cannot)\"\"\"\n",
    "    expanded_text = contractions.fix(text,slang=False)\n",
    "    return expanded_text"
   ]
  },
  {
   "cell_type": "code",
   "execution_count": 138,
   "id": "39e0835b",
   "metadata": {},
   "outputs": [
    {
     "data": {
      "application/vnd.jupyter.widget-view+json": {
       "model_id": "d5cc85119a304a05a71db13cacc0df63",
       "version_major": 2,
       "version_minor": 0
      },
      "text/plain": [
       "  0%|          | 0/362 [00:00<?, ?it/s]"
      ]
     },
     "metadata": {},
     "output_type": "display_data"
    },
    {
     "data": {
      "application/vnd.jupyter.widget-view+json": {
       "model_id": "d6790dbd09064d6aa905d554f9690453",
       "version_major": 2,
       "version_minor": 0
      },
      "text/plain": [
       "  0%|          | 0/362 [00:00<?, ?it/s]"
      ]
     },
     "metadata": {},
     "output_type": "display_data"
    }
   ],
   "source": [
    "df['Subject'] = df['Subject'].progress_apply(cont_expand)\n",
    "df['Description'] = df['Description'].progress_apply(cont_expand)"
   ]
  },
  {
   "cell_type": "markdown",
   "id": "e44b2a9e",
   "metadata": {},
   "source": [
    "# AUTOCORRECT MISSPELLED WORDS"
   ]
  },
  {
   "cell_type": "code",
   "execution_count": 139,
   "id": "3a13c54f",
   "metadata": {},
   "outputs": [
    {
     "data": {
      "application/vnd.jupyter.widget-view+json": {
       "model_id": "de42b07f60264a0184efdf89ad2703aa",
       "version_major": 2,
       "version_minor": 0
      },
      "text/plain": [
       "  0%|          | 0/362 [00:00<?, ?it/s]"
      ]
     },
     "metadata": {},
     "output_type": "display_data"
    },
    {
     "data": {
      "application/vnd.jupyter.widget-view+json": {
       "model_id": "e1a0e3e04c4b450cbfd03c9c1833529c",
       "version_major": 2,
       "version_minor": 0
      },
      "text/plain": [
       "  0%|          | 0/362 [00:00<?, ?it/s]"
      ]
     },
     "metadata": {},
     "output_type": "display_data"
    }
   ],
   "source": [
    "spell_check = Speller(lang='en')\n",
    "df['Subject'] = df['Subject'].progress_apply(lambda x: spell_check(str(x)))\n",
    "df['Description'] = df['Description'].progress_apply(lambda x: spell_check(str(x)))"
   ]
  },
  {
   "cell_type": "markdown",
   "id": "eb4c15b1",
   "metadata": {},
   "source": [
    "# SEPARATE URL AND TYPE IN ATTRIBUTE FEATURE"
   ]
  },
  {
   "cell_type": "code",
   "execution_count": 140,
   "id": "b141d5f3",
   "metadata": {},
   "outputs": [],
   "source": [
    "list_of_attr_urls = [dic[\"url\"] for dic in df.attributes.to_list()]\n",
    "df[\"url\"] = list_of_attr_urls\n",
    "df[\"type\"] = [ dic[\"type\"] for dic in df.attributes.to_list() ]\n",
    "df.drop(columns=[\"attributes\"],inplace=True)"
   ]
  },
  {
   "cell_type": "code",
   "execution_count": null,
   "id": "1aedf4fb",
   "metadata": {},
   "outputs": [],
   "source": []
  }
 ],
 "metadata": {
  "kernelspec": {
   "display_name": "Python 3 (ipykernel)",
   "language": "python",
   "name": "python3"
  },
  "language_info": {
   "codemirror_mode": {
    "name": "ipython",
    "version": 3
   },
   "file_extension": ".py",
   "mimetype": "text/x-python",
   "name": "python",
   "nbconvert_exporter": "python",
   "pygments_lexer": "ipython3",
   "version": "3.9.12"
  }
 },
 "nbformat": 4,
 "nbformat_minor": 5
}
