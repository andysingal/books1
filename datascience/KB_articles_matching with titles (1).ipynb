{
 "cells": [
  {
   "cell_type": "code",
   "execution_count": 120,
   "id": "c577264e",
   "metadata": {},
   "outputs": [
    {
     "name": "stdout",
     "output_type": "stream",
     "text": [
      "Requirement already satisfied: contractions in ./opt/anaconda3/lib/python3.9/site-packages (0.1.72)\n",
      "Requirement already satisfied: textsearch>=0.0.21 in ./opt/anaconda3/lib/python3.9/site-packages (from contractions) (0.0.21)\n",
      "Requirement already satisfied: anyascii in ./opt/anaconda3/lib/python3.9/site-packages (from textsearch>=0.0.21->contractions) (0.3.1)\n",
      "Requirement already satisfied: pyahocorasick in ./opt/anaconda3/lib/python3.9/site-packages (from textsearch>=0.0.21->contractions) (1.4.4)\n",
      "Collecting autocorrect\n",
      "  Downloading autocorrect-2.6.1.tar.gz (622 kB)\n",
      "\u001b[2K     \u001b[90m━━━━━━━━━━━━━━━━━━━━━━━━━━━━━━━━━━━━━━━\u001b[0m \u001b[32m622.8/622.8 kB\u001b[0m \u001b[31m2.2 MB/s\u001b[0m eta \u001b[36m0:00:00\u001b[0m00:01\u001b[0m00:01\u001b[0m\n",
      "\u001b[?25h  Preparing metadata (setup.py) ... \u001b[?25ldone\n",
      "\u001b[?25hBuilding wheels for collected packages: autocorrect\n",
      "  Building wheel for autocorrect (setup.py) ... \u001b[?25ldone\n",
      "\u001b[?25h  Created wheel for autocorrect: filename=autocorrect-2.6.1-py3-none-any.whl size=622364 sha256=1eb24ec7d2bcd7c2f40846c3ebfcbd4413463e8909cc1611c22d51cc117ea433\n",
      "  Stored in directory: /Users/ankush.singal/Library/Caches/pip/wheels/ab/0f/23/3c010c3fd877b962146e7765f9e9b08026cac8b035094c5750\n",
      "Successfully built autocorrect\n",
      "Installing collected packages: autocorrect\n",
      "Successfully installed autocorrect-2.6.1\n"
     ]
    }
   ],
   "source": [
    "!pip install contractions\n",
    "!pip install autocorrect"
   ]
  },
  {
   "cell_type": "code",
   "execution_count": 127,
   "id": "c8c827a4",
   "metadata": {},
   "outputs": [],
   "source": [
    "import pandas as pd\n",
    "import contractions\n",
    "from autocorrect import Speller\n",
    "\n",
    "from tqdm.notebook import tqdm_notebook\n",
    "\n",
    "#initial tqdm for pandas.apply functions\n",
    "tqdm_notebook.pandas()\n",
    "\n",
    "pdObj = pd.read_json('CasesWithLinksInComments.json', orient='index')\n",
    "pdObj.to_csv('streaming.csv', index=True)\n"
   ]
  },
  {
   "cell_type": "code",
   "execution_count": 116,
   "id": "4bc13551",
   "metadata": {
    "scrolled": true
   },
   "outputs": [
    {
     "data": {
      "text/html": [
       "<div>\n",
       "<style scoped>\n",
       "    .dataframe tbody tr th:only-of-type {\n",
       "        vertical-align: middle;\n",
       "    }\n",
       "\n",
       "    .dataframe tbody tr th {\n",
       "        vertical-align: top;\n",
       "    }\n",
       "\n",
       "    .dataframe thead th {\n",
       "        text-align: right;\n",
       "    }\n",
       "</style>\n",
       "<table border=\"1\" class=\"dataframe\">\n",
       "  <thead>\n",
       "    <tr style=\"text-align: right;\">\n",
       "      <th></th>\n",
       "      <th>Session_Id</th>\n",
       "      <th>attributes</th>\n",
       "      <th>Subject</th>\n",
       "      <th>Description</th>\n",
       "      <th>IsClosed</th>\n",
       "      <th>matches</th>\n",
       "      <th>exurl</th>\n",
       "    </tr>\n",
       "  </thead>\n",
       "  <tbody>\n",
       "    <tr>\n",
       "      <th>0</th>\n",
       "      <td>5008Y00001uS4GMQA0</td>\n",
       "      <td>{'type': 'Case', 'url': '/services/data/v47.0/...</td>\n",
       "      <td>[ARR] [Sev B] SR-2205300030001910 title: DBFS ...</td>\n",
       "      <td>The cx wants to upload files using DBFS API 2....</td>\n",
       "      <td>True</td>\n",
       "      <td>['https://docs.microsoft.com/en-us/azure/datab...</td>\n",
       "      <td>NaN</td>\n",
       "    </tr>\n",
       "    <tr>\n",
       "      <th>1</th>\n",
       "      <td>5008Y00001uSAYMQA4</td>\n",
       "      <td>{'type': 'Case', 'url': '/services/data/v47.0/...</td>\n",
       "      <td>Few S3 folders were dropped in production</td>\n",
       "      <td>Hi Team, On production in our freshworks-it-bu...</td>\n",
       "      <td>True</td>\n",
       "      <td>['https://docs.databricks.com/delta/delta-util...</td>\n",
       "      <td>NaN</td>\n",
       "    </tr>\n",
       "    <tr>\n",
       "      <th>2</th>\n",
       "      <td>5008Y00001uSEGLQA4</td>\n",
       "      <td>{'type': 'Case', 'url': '/services/data/v47.0/...</td>\n",
       "      <td>Upload table issue</td>\n",
       "      <td>Hello, We are testing to upload a table with a...</td>\n",
       "      <td>True</td>\n",
       "      <td>['https://docs.databricks.com/data/data-source...</td>\n",
       "      <td>https://dbc-af2bbc71-2647.cloud.databricks.com</td>\n",
       "    </tr>\n",
       "    <tr>\n",
       "      <th>3</th>\n",
       "      <td>5008Y00001uS7sxQAC</td>\n",
       "      <td>{'type': 'Case', 'url': '/services/data/v47.0/...</td>\n",
       "      <td>spatial join not working</td>\n",
       "      <td>Hi, We have a daily job that tag some events w...</td>\n",
       "      <td>True</td>\n",
       "      <td>['https://docs.databricks.com/delta/join-perfo...</td>\n",
       "      <td>https://dbc-f1098e44-02b2.cloud.databricks.com</td>\n",
       "    </tr>\n",
       "    <tr>\n",
       "      <th>4</th>\n",
       "      <td>5008Y00001uSFfqQAG</td>\n",
       "      <td>{'type': 'Case', 'url': '/services/data/v47.0/...</td>\n",
       "      <td>Unable to import The installed R library</td>\n",
       "      <td>Hello Team, We have successfully installed R l...</td>\n",
       "      <td>True</td>\n",
       "      <td>['https://kb.databricks.com/r/install-rjava-rj...</td>\n",
       "      <td>NaN</td>\n",
       "    </tr>\n",
       "  </tbody>\n",
       "</table>\n",
       "</div>"
      ],
      "text/plain": [
       "           Session_Id                                         attributes  \\\n",
       "0  5008Y00001uS4GMQA0  {'type': 'Case', 'url': '/services/data/v47.0/...   \n",
       "1  5008Y00001uSAYMQA4  {'type': 'Case', 'url': '/services/data/v47.0/...   \n",
       "2  5008Y00001uSEGLQA4  {'type': 'Case', 'url': '/services/data/v47.0/...   \n",
       "3  5008Y00001uS7sxQAC  {'type': 'Case', 'url': '/services/data/v47.0/...   \n",
       "4  5008Y00001uSFfqQAG  {'type': 'Case', 'url': '/services/data/v47.0/...   \n",
       "\n",
       "                                             Subject  \\\n",
       "0  [ARR] [Sev B] SR-2205300030001910 title: DBFS ...   \n",
       "1          Few S3 folders were dropped in production   \n",
       "2                                 Upload table issue   \n",
       "3                           spatial join not working   \n",
       "4           Unable to import The installed R library   \n",
       "\n",
       "                                         Description  IsClosed  \\\n",
       "0  The cx wants to upload files using DBFS API 2....      True   \n",
       "1  Hi Team, On production in our freshworks-it-bu...      True   \n",
       "2  Hello, We are testing to upload a table with a...      True   \n",
       "3  Hi, We have a daily job that tag some events w...      True   \n",
       "4  Hello Team, We have successfully installed R l...      True   \n",
       "\n",
       "                                             matches  \\\n",
       "0  ['https://docs.microsoft.com/en-us/azure/datab...   \n",
       "1  ['https://docs.databricks.com/delta/delta-util...   \n",
       "2  ['https://docs.databricks.com/data/data-source...   \n",
       "3  ['https://docs.databricks.com/delta/join-perfo...   \n",
       "4  ['https://kb.databricks.com/r/install-rjava-rj...   \n",
       "\n",
       "                                            exurl  \n",
       "0                                             NaN  \n",
       "1                                             NaN  \n",
       "2  https://dbc-af2bbc71-2647.cloud.databricks.com  \n",
       "3  https://dbc-f1098e44-02b2.cloud.databricks.com  \n",
       "4                                             NaN  "
      ]
     },
     "execution_count": 116,
     "metadata": {},
     "output_type": "execute_result"
    }
   ],
   "source": [
    "#https://stackoverflow.com/questions/43332057/pandas-strip-white-space\n",
    "df = pd.read_csv('streaming.csv', converters={'Description': str.strip})\n",
    "df.rename(\n",
    "    columns=({'Unnamed: 0': 'Session_Id'}), \n",
    "    inplace=True,\n",
    ")\n",
    "df.replace(r'\\s+',' ', regex = True, inplace = True) #remove spaces(/r/n in the description include whitespace)\n",
    "df['exurl'] = df.Description.str.extract(r'(https?://(?:[-\\w.]|(?:%[\\da-fA-F]{2}))+)') #links within the description\n",
    "df.head()"
   ]
  },
  {
   "cell_type": "markdown",
   "id": "8bd8e3a9",
   "metadata": {},
   "source": [
    "# LOWERING THE CASE"
   ]
  },
  {
   "cell_type": "code",
   "execution_count": 125,
   "id": "55d433f9",
   "metadata": {},
   "outputs": [],
   "source": [
    "df['Subject'] = df['Subject'].apply(lambda x: x.lower())\n",
    "df['Description'] = df['Description'].apply(lambda x: x.lower())"
   ]
  },
  {
   "cell_type": "markdown",
   "id": "fc49c674",
   "metadata": {},
   "source": [
    "# REMOVING CONTRACTIONS"
   ]
  },
  {
   "cell_type": "code",
   "execution_count": 122,
   "id": "06e7d35a",
   "metadata": {},
   "outputs": [],
   "source": [
    "def cont_expand(text):\n",
    "    \"\"\" Expand contractions(i.e. don't -> do not, can't -> cannot)\"\"\"\n",
    "    expanded_text = contractions.fix(text,slang=False)\n",
    "    return expanded_text"
   ]
  },
  {
   "cell_type": "code",
   "execution_count": 124,
   "id": "9f5cafc2",
   "metadata": {},
   "outputs": [
    {
     "data": {
      "application/vnd.jupyter.widget-view+json": {
       "model_id": "8d7857cc9a384b6f889dc98e61ce566f",
       "version_major": 2,
       "version_minor": 0
      },
      "text/plain": [
       "  0%|          | 0/362 [00:00<?, ?it/s]"
      ]
     },
     "metadata": {},
     "output_type": "display_data"
    },
    {
     "data": {
      "application/vnd.jupyter.widget-view+json": {
       "model_id": "879d0fe28c7a48ccb9d381d9bc8cde12",
       "version_major": 2,
       "version_minor": 0
      },
      "text/plain": [
       "  0%|          | 0/362 [00:00<?, ?it/s]"
      ]
     },
     "metadata": {},
     "output_type": "display_data"
    }
   ],
   "source": [
    "df['Subject'] = df['Subject'].progress_apply(cont_expand)\n",
    "df['Description'] = df['Description'].progress_apply(cont_expand)"
   ]
  },
  {
   "cell_type": "markdown",
   "id": "043a7770",
   "metadata": {},
   "source": [
    "# AUTOCORRECT MISSPELLED WORDS"
   ]
  },
  {
   "cell_type": "code",
   "execution_count": 130,
   "id": "7e22a914",
   "metadata": {},
   "outputs": [
    {
     "data": {
      "application/vnd.jupyter.widget-view+json": {
       "model_id": "98ce2318f31c45eea9f51be172c6b9b6",
       "version_major": 2,
       "version_minor": 0
      },
      "text/plain": [
       "  0%|          | 0/362 [00:00<?, ?it/s]"
      ]
     },
     "metadata": {},
     "output_type": "display_data"
    },
    {
     "data": {
      "application/vnd.jupyter.widget-view+json": {
       "model_id": "560037e68b864130bcee83332ac57d51",
       "version_major": 2,
       "version_minor": 0
      },
      "text/plain": [
       "  0%|          | 0/362 [00:00<?, ?it/s]"
      ]
     },
     "metadata": {},
     "output_type": "display_data"
    }
   ],
   "source": [
    "spell_check = Speller(lang='en')\n",
    "df['Subject'] = df['Subject'].progress_apply(lambda x: spell_check(str(x)))\n",
    "df['Description'] = df['Description'].progress_apply(lambda x: spell_check(str(x)))"
   ]
  },
  {
   "cell_type": "code",
   "execution_count": 132,
   "id": "e3a8368d",
   "metadata": {},
   "outputs": [
    {
     "ename": "TypeError",
     "evalue": "string indices must be integers",
     "output_type": "error",
     "traceback": [
      "\u001b[0;31m---------------------------------------------------------------------------\u001b[0m",
      "\u001b[0;31mTypeError\u001b[0m                                 Traceback (most recent call last)",
      "Input \u001b[0;32mIn [132]\u001b[0m, in \u001b[0;36m<cell line: 1>\u001b[0;34m()\u001b[0m\n\u001b[0;32m----> 1\u001b[0m list_of_attr_urls \u001b[38;5;241m=\u001b[39m [dic[\u001b[38;5;124m\"\u001b[39m\u001b[38;5;124murl\u001b[39m\u001b[38;5;124m\"\u001b[39m] \u001b[38;5;28;01mfor\u001b[39;00m dic \u001b[38;5;129;01min\u001b[39;00m df\u001b[38;5;241m.\u001b[39mattributes\u001b[38;5;241m.\u001b[39mto_list()]\n\u001b[1;32m      2\u001b[0m df[\u001b[38;5;124m\"\u001b[39m\u001b[38;5;124murl\u001b[39m\u001b[38;5;124m\"\u001b[39m] \u001b[38;5;241m=\u001b[39m list_of_attr_urls\n\u001b[1;32m      3\u001b[0m df[\u001b[38;5;124m\"\u001b[39m\u001b[38;5;124mtype\u001b[39m\u001b[38;5;124m\"\u001b[39m] \u001b[38;5;241m=\u001b[39m [ dic[\u001b[38;5;124m\"\u001b[39m\u001b[38;5;124mtype\u001b[39m\u001b[38;5;124m\"\u001b[39m] \u001b[38;5;28;01mfor\u001b[39;00m dic \u001b[38;5;129;01min\u001b[39;00m df\u001b[38;5;241m.\u001b[39mattributes\u001b[38;5;241m.\u001b[39mto_list() ]\n",
      "Input \u001b[0;32mIn [132]\u001b[0m, in \u001b[0;36m<listcomp>\u001b[0;34m(.0)\u001b[0m\n\u001b[0;32m----> 1\u001b[0m list_of_attr_urls \u001b[38;5;241m=\u001b[39m [\u001b[43mdic\u001b[49m\u001b[43m[\u001b[49m\u001b[38;5;124;43m\"\u001b[39;49m\u001b[38;5;124;43murl\u001b[39;49m\u001b[38;5;124;43m\"\u001b[39;49m\u001b[43m]\u001b[49m \u001b[38;5;28;01mfor\u001b[39;00m dic \u001b[38;5;129;01min\u001b[39;00m df\u001b[38;5;241m.\u001b[39mattributes\u001b[38;5;241m.\u001b[39mto_list()]\n\u001b[1;32m      2\u001b[0m df[\u001b[38;5;124m\"\u001b[39m\u001b[38;5;124murl\u001b[39m\u001b[38;5;124m\"\u001b[39m] \u001b[38;5;241m=\u001b[39m list_of_attr_urls\n\u001b[1;32m      3\u001b[0m df[\u001b[38;5;124m\"\u001b[39m\u001b[38;5;124mtype\u001b[39m\u001b[38;5;124m\"\u001b[39m] \u001b[38;5;241m=\u001b[39m [ dic[\u001b[38;5;124m\"\u001b[39m\u001b[38;5;124mtype\u001b[39m\u001b[38;5;124m\"\u001b[39m] \u001b[38;5;28;01mfor\u001b[39;00m dic \u001b[38;5;129;01min\u001b[39;00m df\u001b[38;5;241m.\u001b[39mattributes\u001b[38;5;241m.\u001b[39mto_list() ]\n",
      "\u001b[0;31mTypeError\u001b[0m: string indices must be integers"
     ]
    }
   ],
   "source": [
    "list_of_attr_urls = [dic[\"url\"] for dic in df.attributes.to_list()]\n",
    "df[\"url\"] = list_of_attr_urls\n",
    "df[\"type\"] = [ dic[\"type\"] for dic in df.attributes.to_list() ]\n",
    "df.drop(columns=[\"attributes\"],inplace=True)"
   ]
  },
  {
   "cell_type": "code",
   "execution_count": null,
   "id": "c76f0b90",
   "metadata": {},
   "outputs": [],
   "source": []
  }
 ],
 "metadata": {
  "kernelspec": {
   "display_name": "Python 3 (ipykernel)",
   "language": "python",
   "name": "python3"
  },
  "language_info": {
   "codemirror_mode": {
    "name": "ipython",
    "version": 3
   },
   "file_extension": ".py",
   "mimetype": "text/x-python",
   "name": "python",
   "nbconvert_exporter": "python",
   "pygments_lexer": "ipython3",
   "version": "3.9.12"
  }
 },
 "nbformat": 4,
 "nbformat_minor": 5
}
