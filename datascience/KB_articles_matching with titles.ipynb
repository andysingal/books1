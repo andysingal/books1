{
 "cells": [
  {
   "cell_type": "code",
   "execution_count": 38,
   "id": "ce42bb0e",
   "metadata": {},
   "outputs": [],
   "source": [
    "import pandas as pd\n",
    "\n",
    "pdObj = pd.read_json('CasesWithLinksInComments.json', orient='index')\n",
    "pdObj.to_csv('streaming.csv', index=True)\n"
   ]
  },
  {
   "cell_type": "code",
   "execution_count": 77,
   "id": "0cc2556b",
   "metadata": {
    "scrolled": true
   },
   "outputs": [
    {
     "data": {
      "text/html": [
       "<div>\n",
       "<style scoped>\n",
       "    .dataframe tbody tr th:only-of-type {\n",
       "        vertical-align: middle;\n",
       "    }\n",
       "\n",
       "    .dataframe tbody tr th {\n",
       "        vertical-align: top;\n",
       "    }\n",
       "\n",
       "    .dataframe thead th {\n",
       "        text-align: right;\n",
       "    }\n",
       "</style>\n",
       "<table border=\"1\" class=\"dataframe\">\n",
       "  <thead>\n",
       "    <tr style=\"text-align: right;\">\n",
       "      <th></th>\n",
       "      <th>Session_Id</th>\n",
       "      <th>attributes</th>\n",
       "      <th>Subject</th>\n",
       "      <th>Description</th>\n",
       "      <th>IsClosed</th>\n",
       "      <th>matches</th>\n",
       "    </tr>\n",
       "  </thead>\n",
       "  <tbody>\n",
       "    <tr>\n",
       "      <th>0</th>\n",
       "      <td>5008Y00001uS4GMQA0</td>\n",
       "      <td>{'type': 'Case', 'url': '/services/data/v47.0/...</td>\n",
       "      <td>[ARR] [Sev B] SR-2205300030001910 title: DBFS ...</td>\n",
       "      <td>The cx wants to upload files using DBFS API 2....</td>\n",
       "      <td>True</td>\n",
       "      <td>['https://docs.microsoft.com/en-us/azure/datab...</td>\n",
       "    </tr>\n",
       "    <tr>\n",
       "      <th>1</th>\n",
       "      <td>5008Y00001uSAYMQA4</td>\n",
       "      <td>{'type': 'Case', 'url': '/services/data/v47.0/...</td>\n",
       "      <td>Few S3 folders were dropped in production</td>\n",
       "      <td>Hi Team, On production in our freshworks-it-bu...</td>\n",
       "      <td>True</td>\n",
       "      <td>['https://docs.databricks.com/delta/delta-util...</td>\n",
       "    </tr>\n",
       "    <tr>\n",
       "      <th>2</th>\n",
       "      <td>5008Y00001uSEGLQA4</td>\n",
       "      <td>{'type': 'Case', 'url': '/services/data/v47.0/...</td>\n",
       "      <td>Upload table issue</td>\n",
       "      <td>Hello, We are testing to upload a table with a...</td>\n",
       "      <td>True</td>\n",
       "      <td>['https://docs.databricks.com/data/data-source...</td>\n",
       "    </tr>\n",
       "    <tr>\n",
       "      <th>3</th>\n",
       "      <td>5008Y00001uS7sxQAC</td>\n",
       "      <td>{'type': 'Case', 'url': '/services/data/v47.0/...</td>\n",
       "      <td>spatial join not working</td>\n",
       "      <td>Hi, We have a daily job that tag some events w...</td>\n",
       "      <td>True</td>\n",
       "      <td>['https://docs.databricks.com/delta/join-perfo...</td>\n",
       "    </tr>\n",
       "    <tr>\n",
       "      <th>4</th>\n",
       "      <td>5008Y00001uSFfqQAG</td>\n",
       "      <td>{'type': 'Case', 'url': '/services/data/v47.0/...</td>\n",
       "      <td>Unable to import The installed R library</td>\n",
       "      <td>Hello Team, We have successfully installed R l...</td>\n",
       "      <td>True</td>\n",
       "      <td>['https://kb.databricks.com/r/install-rjava-rj...</td>\n",
       "    </tr>\n",
       "  </tbody>\n",
       "</table>\n",
       "</div>"
      ],
      "text/plain": [
       "           Session_Id                                         attributes  \\\n",
       "0  5008Y00001uS4GMQA0  {'type': 'Case', 'url': '/services/data/v47.0/...   \n",
       "1  5008Y00001uSAYMQA4  {'type': 'Case', 'url': '/services/data/v47.0/...   \n",
       "2  5008Y00001uSEGLQA4  {'type': 'Case', 'url': '/services/data/v47.0/...   \n",
       "3  5008Y00001uS7sxQAC  {'type': 'Case', 'url': '/services/data/v47.0/...   \n",
       "4  5008Y00001uSFfqQAG  {'type': 'Case', 'url': '/services/data/v47.0/...   \n",
       "\n",
       "                                             Subject  \\\n",
       "0  [ARR] [Sev B] SR-2205300030001910 title: DBFS ...   \n",
       "1          Few S3 folders were dropped in production   \n",
       "2                                 Upload table issue   \n",
       "3                           spatial join not working   \n",
       "4           Unable to import The installed R library   \n",
       "\n",
       "                                         Description  IsClosed  \\\n",
       "0  The cx wants to upload files using DBFS API 2....      True   \n",
       "1  Hi Team, On production in our freshworks-it-bu...      True   \n",
       "2  Hello, We are testing to upload a table with a...      True   \n",
       "3  Hi, We have a daily job that tag some events w...      True   \n",
       "4  Hello Team, We have successfully installed R l...      True   \n",
       "\n",
       "                                             matches  \n",
       "0  ['https://docs.microsoft.com/en-us/azure/datab...  \n",
       "1  ['https://docs.databricks.com/delta/delta-util...  \n",
       "2  ['https://docs.databricks.com/data/data-source...  \n",
       "3  ['https://docs.databricks.com/delta/join-perfo...  \n",
       "4  ['https://kb.databricks.com/r/install-rjava-rj...  "
      ]
     },
     "execution_count": 77,
     "metadata": {},
     "output_type": "execute_result"
    }
   ],
   "source": [
    "#https://stackoverflow.com/questions/43332057/pandas-strip-white-space\n",
    "df = pd.read_csv('streaming.csv', converters={'Description': str.strip})\n",
    "df.rename(\n",
    "    columns=({'Unnamed: 0': 'Session_Id'}), \n",
    "    inplace=True,\n",
    ")\n",
    "df.replace(r'\\s+',' ', regex = True, inplace = True)\n",
    "df.head()"
   ]
  },
  {
   "cell_type": "code",
   "execution_count": 72,
   "id": "a8b0672e",
   "metadata": {},
   "outputs": [
    {
     "data": {
      "text/plain": [
       "'The cx wants to upload files using DBFS API 2.0, but since the size limitation is 1 MB, they can\\'t upload file bigger than 1 MB. How can make it possible? The cx is using PowerShell scripts. Here are parts of their scripts: #uploads the libraries Get-ChildItem -Path $LibraryFilePath | Foreach-Object { $filename = $_ write-host $filename.FullName $file = $_.Name write-host $file $base64file = [Convert]::ToBase64String([IO.File]::ReadAllBytes($filename.FullName)) $path = \"/FileStore/jars/init-libs/$file\" write-host $path write-host $path $jsonbody = @{ path = $path contents = $base64file overwrite = \"true\" } $Uri = \"$ADB_URL/api/2.0/dbfs/put\" $Headers = @{\\'Authorization\\' = \"Bearer $ADB_MRL_Token\" } $Method = \\'POST\\' $Body = $jsonbody | ConvertTo-Json write-host \"Uploading $file...\" $Result = Invoke-RestMethod -Uri $Uri -Header $Headers -Body $Body -Method $Method if ($Result -ne $null) { write-host \"$file Uploaded to DBFS\" } }'"
      ]
     },
     "execution_count": 72,
     "metadata": {},
     "output_type": "execute_result"
    }
   ],
   "source": [
    "df.Description[0]"
   ]
  },
  {
   "cell_type": "code",
   "execution_count": 64,
   "id": "b6f6a8e6",
   "metadata": {},
   "outputs": [
    {
     "data": {
      "text/plain": [
       "\"['https://docs.microsoft.com/en-us/azure/databricks/dev-tools/api/latest/dbfs#--put','https://adb-8596220602934265.5.azuredatabricks.net/api/2.0/dbfs/put']\""
      ]
     },
     "execution_count": 64,
     "metadata": {},
     "output_type": "execute_result"
    }
   ],
   "source": [
    "df.matches[0]"
   ]
  },
  {
   "cell_type": "code",
   "execution_count": 36,
   "id": "930b2fb7",
   "metadata": {},
   "outputs": [
    {
     "data": {
      "text/plain": [
       "0      [ARR] [Sev B] SR-2205300030001910 title: DBFS ...\n",
       "1              Few S3 folders were dropped in production\n",
       "2                                     Upload table issue\n",
       "3                               spatial join not working\n",
       "4               Unable to import The installed R library\n",
       "                             ...                        \n",
       "357    Delta Live Tables apply_changes() ability to u...\n",
       "358    Delta table with partition unable to Handle In...\n",
       "359    To process High Volume of JSON files in to fla...\n",
       "360    Unable to load Ganglia metrics page for all cl...\n",
       "361                                 Change owner account\n",
       "Name: Subject, Length: 362, dtype: object"
      ]
     },
     "execution_count": 36,
     "metadata": {},
     "output_type": "execute_result"
    }
   ],
   "source": [
    "df.Subject"
   ]
  },
  {
   "cell_type": "code",
   "execution_count": 16,
   "id": "d6f775e6",
   "metadata": {},
   "outputs": [
    {
     "data": {
      "text/plain": [
       "\"{'type': 'Case', 'url': '/services/data/v47.0/sobjects/Case/5008Y00001uS4GMQA0'}\""
      ]
     },
     "execution_count": 16,
     "metadata": {},
     "output_type": "execute_result"
    }
   ],
   "source": [
    "df.attributes[0]"
   ]
  },
  {
   "cell_type": "code",
   "execution_count": null,
   "id": "c60b32b5",
   "metadata": {},
   "outputs": [],
   "source": []
  }
 ],
 "metadata": {
  "kernelspec": {
   "display_name": "Python 3 (ipykernel)",
   "language": "python",
   "name": "python3"
  },
  "language_info": {
   "codemirror_mode": {
    "name": "ipython",
    "version": 3
   },
   "file_extension": ".py",
   "mimetype": "text/x-python",
   "name": "python",
   "nbconvert_exporter": "python",
   "pygments_lexer": "ipython3",
   "version": "3.9.12"
  }
 },
 "nbformat": 4,
 "nbformat_minor": 5
}
