{
 "cells": [
  {
   "cell_type": "code",
   "execution_count": 1,
   "id": "9ab70d15",
   "metadata": {},
   "outputs": [],
   "source": [
    "#https://intellica-ai.medium.com/aspect-based-sentiment-analysis-everything-you-wanted-to-know-1be41572e238\n",
    "#https://medium.datadriveninvestor.com/sentiment-analysis-is-not-enough-ffafc8bbbfeb\n",
    "#https://www.kaggle.com/code/phiitm/aspect-based-sentiment-analysis/notebook\n",
    "#https://medium.com/analytics-vidhya/aspect-based-sentiment-analysis-a-practical-approach-8f51029bbc4a"
   ]
  },
  {
   "cell_type": "code",
   "execution_count": 1,
   "id": "770bdf83",
   "metadata": {},
   "outputs": [],
   "source": [
    "%%capture\n",
    "!python3 -m pip install tweepy\n",
    "!python -m spacy download en_core_web_sm\n",
    "!python -m spacy download en_core_web_lg\n",
    "!pip install stanfordnlp"
   ]
  },
  {
   "cell_type": "code",
   "execution_count": 3,
   "id": "26f6dda2",
   "metadata": {},
   "outputs": [
    {
     "name": "stderr",
     "output_type": "stream",
     "text": [
      "[nltk_data] Downloading package stopwords to\n",
      "[nltk_data]     /Users/ankushsingal/nltk_data...\n",
      "[nltk_data]   Package stopwords is already up-to-date!\n"
     ]
    }
   ],
   "source": [
    "#import libraries\n",
    "import pandas as pd\n",
    "import string\n",
    "from tqdm.notebook import tqdm_notebook\n",
    "import warnings\n",
    "import time\n",
    "import csv\n",
    "import base64\n",
    "import json\n",
    "\n",
    "import matplotlib.pyplot as plt\n",
    "import seaborn as sns\n",
    "\n",
    "import nltk\n",
    "nltk.download('stopwords')\n",
    "from nltk.corpus import stopwords\n",
    "stop = stopwords.words()\n",
    "\n",
    "import spacy\n",
    "import re\n",
    "\n",
    "# load a trained English pipeline \n",
    "nlp = spacy.load(\"en_core_web_sm\")\n",
    "from nltk.corpus import wordnet\n",
    "from nltk.tokenize import word_tokenize, sent_tokenize\n",
    "from nltk.stem.wordnet import WordNetLemmatizer \n",
    "import stanfordnlp\n",
    "\n",
    "from transformers import AutoTokenizer, AutoModelForQuestionAnswering, AutoModelForSequenceClassification\n",
    "from transformers import pipeline\n",
    "\n",
    "\n",
    "import tweepy\n",
    "from tweepy import OAuthHandler\n",
    "\n",
    "# initiate tqdm for pandas.apply() functions\n",
    "tqdm_notebook.pandas()"
   ]
  },
  {
   "cell_type": "code",
   "execution_count": 409,
   "id": "1dff6de5",
   "metadata": {},
   "outputs": [],
   "source": [
    "# suppress all warnings\n",
    "warnings.simplefilter('ignore')\n",
    "\n",
    "# expand notebook display options for dataframes\n",
    "pd.set_option('display.max_colwidth', 200)\n",
    "pd.options.display.max_columns = 999\n",
    "pd.options.display.max_rows = 300"
   ]
  },
  {
   "cell_type": "code",
   "execution_count": 430,
   "id": "a3bfe5b6",
   "metadata": {},
   "outputs": [],
   "source": [
    "#twitter credentials\n",
    "consumer_key = \"EhOZiQEfg2b8HfBeKjhX9ezB6\"\n",
    "consumer_secret = \"jbJcZi5g5qGSYrIGzaatDuiYPg8QpYfURdjmfbfgZZk5RUYvgb\"\n",
    "access_token = \"232661448-pdfmND03rvRkbPDWPfUGxuHY8ZHOENkNLSHZarPr\"\n",
    "access_token_secret = \"CFAcNGLqMM24Nh8m3uQglb6CSpYU5vZtTp9j4Xvd7bB5S\"\n",
    "hashtag='oneplus7pro'\n",
    "tweet_count=50\n",
    "\n",
    "# #Authenticate credentials\n",
    "# auth = OAuthHandler(consumer_key, consumer_secret)\n",
    "# auth.set_access_token(access_token, access_secret)\n",
    "\n",
    "# api = tweepy.API(auth,wait_on_rate_limit=True)\n",
    "\n",
    "# tweet_created = []\n",
    "# tweet_text = []\n",
    "# tweets = tweepy.Cursor(api.search_tweets,q='hare krsna',count=30, lang=\"en\")\n",
    "# for tweet in tweets.items():\n",
    "#     tweet_created.append(tweet.created_at)\n",
    "#     tweet_text.append(tweet.text)  \n",
    "\n",
    "# df = pd.DataFrame(columns=['created_on','tweets'])\n",
    "# df['created_on'] = tweet_created\n",
    "# df['tweets']= tweet_text"
   ]
  },
  {
   "cell_type": "code",
   "execution_count": 431,
   "id": "ff9fb89a",
   "metadata": {},
   "outputs": [],
   "source": [
    "#method to fetch tweets from twitter\n",
    "def get_tweets(hashtag, consumer_key, consumer_secret, access_token, access_token_secret, tweet_count):\n",
    "    #authentication using credentials\n",
    "    auth = tweepy.OAuthHandler(consumer_key, consumer_secret)\n",
    "    auth.set_access_token(access_token, access_token_secret)\n",
    "    api = tweepy.API(auth,wait_on_rate_limit=True)\n",
    "\n",
    "    #fetching tweets holding specific hashtag\n",
    "    tweet_text, tweet_created = list(), list()\n",
    "    for tweet in tweepy.Cursor(api.search_tweets,q=hashtag, count=tweet_count, lang=\"en\").items():\n",
    "        tweet_text.append(tweet.text.encode('utf-8'))\n",
    "        tweet_created.append(tweet.created_at)\n",
    "       \n",
    "    #creating dataframe    \n",
    "    df = pd.DataFrame({'tweets': tweet_text, 'created_on': tweet_created})\n",
    "    return df"
   ]
  },
  {
   "cell_type": "code",
   "execution_count": 432,
   "id": "0201d91e",
   "metadata": {},
   "outputs": [],
   "source": [
    "twitter_content = get_tweets(hashtag, consumer_key, consumer_secret, access_token, access_token_secret, tweet_count=50)"
   ]
  },
  {
   "cell_type": "code",
   "execution_count": 433,
   "id": "1b162305",
   "metadata": {},
   "outputs": [],
   "source": [
    "#twitter_content"
   ]
  },
  {
   "cell_type": "markdown",
   "id": "d1a5df79",
   "metadata": {},
   "source": [
    "# Data Cleaning\n",
    "\n",
    "Extracted tweet text may contain hashtags, tagging account, emojis, web-site/HTTP links, and HTML tags that need to be removed in pre-processing steps."
   ]
  },
  {
   "cell_type": "code",
   "execution_count": 434,
   "id": "5bfc78be",
   "metadata": {},
   "outputs": [],
   "source": [
    "import re\n",
    "from urlextract import URLExtract\n",
    "extractor = URLExtract()\n",
    "import contractions\n",
    "import nltk\n",
    "\n",
    "\n",
    "def preprocess(text):\n",
    "    #to lowercase\n",
    "    text = str(text).lower()\n",
    "    #remove urls\n",
    "    urls = extractor.find_urls(text)\n",
    "    for url in urls:\n",
    "        text = text.replace(url, '')\n",
    "    #remove new lines\n",
    "    text = text.replace('\\\\n',' ')\n",
    "    #remove none meaningful    \n",
    "    text = re.sub(r'\\\\x[0-9a-f]{2}', '',text)\n",
    "    #remove emails\n",
    "    text = re.sub(r'\\S*@\\S*\\s?',' ',text)\n",
    "    #remove mentions\n",
    "    text = re.sub(r'@\\S+', ' ', text)\n",
    "    #contractions\n",
    "    text = contractions.fix(text)\n",
    "    #remove hashtags\n",
    "    text = re.sub(r'@\\S+', ' ', text)\n",
    "    #remove emojis\n",
    "    text = re.sub(r'[^\\x00-\\x7F]+', ' ', text)\n",
    "    #remove retweets\n",
    "    text = text.replace(r'rt', '')\n",
    "    #remove all punct\n",
    "    text = re.sub('[^A-z0-9]', ' ', text)\n",
    "    #remove extras whitespaces\n",
    "    text = re.sub('\\s+', '', text)\n",
    "    return text"
   ]
  },
  {
   "cell_type": "markdown",
   "id": "513658fd",
   "metadata": {},
   "source": [
    "# Extracting Nouns and Synonyms\n",
    "The aspects provided by the user during an invocation are used in this phase. Nouns are extracted from tweets as aspects might be mentioned in tweets as alternate terms. For instance, a “screen” can be called a “display” for a product like a cell phone. To extract such terms which are directly correlated with aspects, we extract all nouns from tweets. Thereafter, we find similarities between extracted nouns and aspects to know the nouns which are alternate names used for aspects in tweets.\n",
    "\n",
    "Nouns are extracted using part-of-speech (POS), an NLP technique that assigns the part-of-speech to every token of text. Part of speech might be nouns, pronouns, adjectives, adverbs, etc. Part-of-speech assigns one of this grammar entities to every token of a sentence."
   ]
  },
  {
   "cell_type": "code",
   "execution_count": 435,
   "id": "b3ecfc0d",
   "metadata": {},
   "outputs": [],
   "source": [
    "def get_noun(lines):\n",
    "\ttokenized = nltk.word_tokenize(lines)\n",
    "\t#extracts token whose pos ends with 'NN' i.e. extracts any type of noun whether proper or common\n",
    "\tnouns = set([word for (word, pos) in nltk.pos_tag(tokenized) if(pos[:2] == 'NN')])\n",
    "\treturn nouns"
   ]
  },
  {
   "cell_type": "markdown",
   "id": "80a46a5f",
   "metadata": {},
   "source": [
    "# https://www.geeksforgeeks.org/aspect-modelling-in-sentiment-analysis/"
   ]
  },
  {
   "cell_type": "code",
   "execution_count": 11,
   "id": "f6d909f6",
   "metadata": {},
   "outputs": [],
   "source": [
    "# ext_aspects = []\n",
    "  \n",
    "# # Performing Aspect Extraction\n",
    "# for sen in df.preprocess_data:\n",
    "#   important = nlp(sen)\n",
    "#   descriptive_item = ''\n",
    "#   target = ''\n",
    "#   for token in important:\n",
    "#     if token.dep_ == 'nsubj' and token.pos_ == 'NOUN':\n",
    "#       target = token.text\n",
    "#     if token.pos_ == 'ADJ':\n",
    "#       added_terms = ''\n",
    "#       for mini_token in token.children:\n",
    "#         if mini_token.pos_ != 'ADV':\n",
    "#           continue\n",
    "#         added_terms += mini_token.text + ' '\n",
    "#       descriptive_item = added_terms + token.text\n",
    "#   ext_aspects.append({'aspect': target,\n",
    "#     'description': descriptive_item})\n",
    "  \n",
    "# print(\"ASPECT EXTRACTION\\n\")\n",
    "# # df.append(ext_aspects)"
   ]
  },
  {
   "cell_type": "markdown",
   "id": "824d1768",
   "metadata": {},
   "source": [
    "2. Synonyms are extracted using word similarity between aspects provided and nouns extracted in the previous step. Word similarity is computed using spacy’s English large model. This model provides us with the embedding of both the words, the first being the noun and the second being the aspect. Embedding is the numeric representation of words. Then, cosine similarity is computed of both words’ embedding using the “similarity” method of spacy. It is used to find synonyms used for aspects in specific tweets.\n",
    "\n",
    "For instance, the user has passed the aspects “screen” and “price” as aspects during invocation and “display” is the noun extracted from the tweet then cosine similarity will be high for “display” and “screen” as compared to “display” and “price”. Hence, we can conclude that “display” is the synonym used in place of aspect “screen” in the tweet. Here, we consider two words as similar only if their cosine similarity is greater than 60 percent."
   ]
  },
  {
   "cell_type": "code",
   "execution_count": null,
   "id": "94c81e7d",
   "metadata": {},
   "outputs": [],
   "source": []
  },
  {
   "cell_type": "code",
   "execution_count": 405,
   "id": "b3b69b87",
   "metadata": {},
   "outputs": [],
   "source": [
    "#loading the english large model\n",
    "nlp = spacy.load('en_core_web_lg')\n",
    "#method to get list of aspects and their respective noun representations\n",
    "def get_similar_words(nouns, aspects):\n",
    "\taspect_classes = {k: list() for k in aspects}\n",
    "\tfor noun in nouns:\n",
    "\t\tscores = list()\n",
    "\t\tfor aspect in aspects:\n",
    "\t\t\t#get embedding of both words (aspect and noun)\n",
    "\t\t\taspect_token = nlp(aspect)\n",
    "\t\t\tnoun_token = nlp(noun)\n",
    "\t\t\t#get similarity of both embedding\n",
    "\t\t\tsimilarity_score = aspect_token.similarity(noun_token)\n",
    "\t\t\tscores.append(similarity_score)\n",
    "\t\tindex = scores.index(max(scores))\n",
    "\t\taspect_name = aspects[index]\n",
    "\t\t\n",
    "\t\t#check if similarity score is greater than 60 percent\n",
    "\t\tif max(scores)>0.60:\n",
    "\t\t\tvalue = aspect_classes[aspect_name]\n",
    "\t\t\tvalue.append(noun)\n",
    "\t\t\taspect_classes[aspect_name] = list(set(value))\n",
    "\t\t\t\n",
    "\t\telse:\n",
    "\t\t\tpass\n",
    "\treturn aspect_classes\t"
   ]
  },
  {
   "cell_type": "markdown",
   "id": "b5ec576b",
   "metadata": {},
   "source": [
    "# Extract Describing phrases\n",
    "Sentiment can be computed on the phrases which are used to describe the aspects. Adjectives and adverbs form such phrases which describe the nouns. To extract such describing phrases, we have used the question-answering model. We haven’t trained a custom question-answering model but used one available from hugging face. More details about the question-answering model are mentioned in my GitHub repository, mentioned at the end of this article. We have used the preprocessed tweet as context and asked questions in the following format: “how is {aspect_name}”.\n",
    "\n",
    "This question extracts the describing phrases from the context for every aspect. For instance, a tweet after preprocessing states as “iPhone 13’s design is fantastic but the camera is disappointing”. Using it as context and asking questions such as “how is design” and “how is a camera” will yield answers such as “fantastic” and “disappointing” respectively.\n",
    "\n",
    "Note: For the question-answering model, it is necessary to maintain to grammar and lexical meaning of the tweet, that is why we have not removed stop words during preprocessing step.\n",
    "\n"
   ]
  },
  {
   "cell_type": "code",
   "execution_count": 13,
   "id": "264ace71",
   "metadata": {},
   "outputs": [],
   "source": [
    "qa_tokenizer = AutoTokenizer.from_pretrained(\"deepset/roberta-base-squad2\")\n",
    "qa_model = AutoModelForQuestionAnswering.from_pretrained(\"deepset/roberta-base-squad2\")\n",
    "qa_model = pipeline('question-answering', model=qa_model, tokenizer=qa_tokenizer)\n",
    "\n",
    "sent_tokenizer = AutoTokenizer.from_pretrained(\"cardiffnlp/twitter-xlm-roberta-base-sentiment\")\n",
    "sent_model = AutoModelForSequenceClassification.from_pretrained(\"cardiffnlp/twitter-xlm-roberta-base-sentiment\")\n",
    "sent_model = pipeline('text-classification', model=sent_model, tokenizer=sent_tokenizer)"
   ]
  },
  {
   "cell_type": "code",
   "execution_count": 14,
   "id": "c5d89b54",
   "metadata": {},
   "outputs": [],
   "source": [
    "def get_sentiment(aspect_classes, text,qa_model, sent_model):\n",
    "    sentiment_dict = {k:0 for k in aspect_classes}\n",
    "    for aspect in aspect_classes:\n",
    "        alt_names = aspect_classes[aspect]\n",
    "        for name in alt_names:\n",
    "            question = f'how is {name}'\n",
    "            QA_input = {'question': question, 'context': text}\n",
    "            qa_result = qa_model(QA_input)\n",
    "            answer = qa_result['answer']\n",
    "\n",
    "        #sentiment model \n",
    "            sent_result = sent_model(answer)    \n",
    "            print(sent_result)\n",
    "            sentiment = sent_result[0]['label']\n",
    "\n",
    "            if sentiment == 'LABEL_0':\n",
    "                sentiment, score = 'Negative', -1\n",
    "            elif sentiment == 'LABEL_1':\n",
    "                sentiment, score = 'Neutral', 0\n",
    "            else:\n",
    "                sentiment, score = 'Positive', 1\n",
    "\n",
    "            value = sentiment_dict[aspect] + score\n",
    "            sentiment_dict[aspect] = value\n",
    "    return sentiment_dict\n",
    "\n",
    "def compute(text, aspects, qa_model, sent_model):\n",
    "\t#preprocessing\n",
    "\tpreprocess_text = preprocess(text)\n",
    "\t#get nouns\n",
    "\tnoun_list = get_noun(preprocess_text)\t\n",
    "\t#get alternative names of aspects\n",
    "\taspect_classes = get_similar_words(noun_list, aspects)\n",
    "\t#get sentiment\n",
    "\tsentiment_result = get_sentiment(aspect_classes, text, qa_model, sent_model)\n",
    "\treturn sentiment_result\n"
   ]
  },
  {
   "cell_type": "code",
   "execution_count": null,
   "id": "859789df",
   "metadata": {},
   "outputs": [],
   "source": []
  },
  {
   "cell_type": "code",
   "execution_count": 15,
   "id": "28777f97",
   "metadata": {},
   "outputs": [],
   "source": [
    "def aspect_sentiment(aspects, hashtag):\n",
    "\tif not aspects or aspects == list() :\n",
    "\t\treturn {'statusCode': 400, 'body': 'aspects not found in request'}\n",
    "\n",
    "\tif not hashtag or hashtag.strip() == '':\n",
    "\t\treturn {'statusCode': 400, 'body': 'hashtag not found in request'}\n",
    "\n",
    "\t#extracts 50 tweets regarding the hashtag from twitter\n",
    "\ttwitter_content = get_tweets(hashtag, consumer_key, consumer_secret, access_token, access_token_secret, tweet_count=50)\n",
    "\taspect_score = {asp : {'positive': 1, 'negative': -1} for asp in aspects}\n",
    "\t\n",
    "\t#compute scores for each tweet\n",
    "\tif twitter_content.to_dict():\n",
    "\t\tfor text in twitter_content['tweets']:\n",
    "\t\t\tsentiment_result = compute(text, aspects, qa_model, sent_model)\n",
    "\t\t\tfor result in sentiment_result:\n",
    "\t\t\t\tscore = sentiment_result[result]\n",
    "\t\t\t\tif score>0:\n",
    "\t\t\t\t\taspect_score[result]['positive'] = aspect_score[result]['positive'] + score\n",
    "\t\t\t\telif score<0:\n",
    "\t\t\t\t\taspect_score[result]['negative'] = aspect_score[result]['negative'] - score\n",
    "\t\t\t\telse:\n",
    "\t\t\t\t\tpass\n",
    "\telse:\n",
    "\t\treturn {'statusCode': 400, 'body': 'No twitter data scraped for this hashtag'}\n",
    "\n",
    "\n",
    "\n",
    "\tresult_list = [[k, 'positive', v['positive']] for k,v in aspect_score.items()]\n",
    "\tresult_list.extend([[k, 'negative', v['negative']] for k,v in aspect_score.items()])\n",
    "\n",
    "\t#plot the bar plot across all aspects\n",
    "\taspects_df = pd.DataFrame(result_list, columns= ['aspect', 'sentiment', 'score'])\n",
    "\tsns.barplot(x = 'aspect', y = 'score', hue='sentiment', data=aspects_df)\n",
    "\tplt.savefig('result.png')\n",
    "    \n",
    "\n",
    "\t#send base64 string of image as response\n",
    "\timg_result = None\n",
    "\twith open('result.png', 'rb') as f:\n",
    "\t\tim_b64 = base64.b64encode(f.read())\n",
    "\t\timg_result = str(im_b64)\n",
    "\tif img_result:\n",
    "\t\treturn {'statusCode': 200, 'body': json.dumps(img_result)}\n",
    "\telse:\n",
    "\t\treturn {'statusCode': 400, 'body': 'issue in saving result image'}"
   ]
  },
  {
   "cell_type": "code",
   "execution_count": 16,
   "id": "90ef8f0b",
   "metadata": {},
   "outputs": [],
   "source": [
    "aspects = ['screen', 'battery', 'design', 'camera']\n"
   ]
  },
  {
   "cell_type": "code",
   "execution_count": 17,
   "id": "7fa80bfb",
   "metadata": {},
   "outputs": [
    {
     "data": {
      "text/plain": [
       "{'statusCode': 200,\n",
       " 'body': '\"b\\'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\\'\"'}"
      ]
     },
     "execution_count": 17,
     "metadata": {},
     "output_type": "execute_result"
    },
    {
     "data": {
      "image/png": "[encoded data removed]",
      "text/plain": [
       "<Figure size 432x288 with 1 Axes>"
      ]
     },
     "metadata": {
      "needs_background": "light"
     },
     "output_type": "display_data"
    }
   ],
   "source": [
    "aspect_sentiment(aspects, hashtag)"
   ]
  },
  {
   "cell_type": "code",
   "execution_count": null,
   "id": "453d5d98",
   "metadata": {},
   "outputs": [],
   "source": []
  },
  {
   "cell_type": "code",
   "execution_count": 18,
   "id": "45b405a6",
   "metadata": {},
   "outputs": [],
   "source": [
    "# aspect_score = {asp : {'positive': 1, 'negative': -1} for asp in aspects}"
   ]
  },
  {
   "cell_type": "code",
   "execution_count": 19,
   "id": "96035ea9",
   "metadata": {},
   "outputs": [],
   "source": [
    "# if twitter_content.to_dict():\n",
    "# \t\tfor text in twitter_content['tweets']:\n",
    "# \t\t\tsentiment_result = compute(text, aspects, qa_model, sent_model)\n",
    "# \t\t\tfor result in sentiment_result:\n",
    "# \t\t\t\tscore = sentiment_result[result]\n",
    "# \t\t\t\tif score>0:\n",
    "# \t\t\t\t\taspect_score[result]['positive'] = aspect_score[result]['positive'] + score\n",
    "# \t\t\t\telif score<0:\n",
    "# \t\t\t\t\taspect_score[result]['negative'] = aspect_score[result]['negative'] - score\n",
    "# \t\t\t\telse:\n",
    "# \t\t\t\t\tpass\n"
   ]
  },
  {
   "cell_type": "code",
   "execution_count": 20,
   "id": "02a79413",
   "metadata": {},
   "outputs": [],
   "source": [
    "# result_list = [[k, 'positive', v['positive']] for k,v in aspect_score.items()]"
   ]
  },
  {
   "cell_type": "code",
   "execution_count": 21,
   "id": "3d484c24",
   "metadata": {},
   "outputs": [],
   "source": [
    "# result_list.extend([[k, 'negative', v['negative']] for k,v in aspect_score.items()])"
   ]
  },
  {
   "cell_type": "code",
   "execution_count": 22,
   "id": "3c19f54c",
   "metadata": {},
   "outputs": [],
   "source": [
    "# aspects_df = pd.DataFrame(result_list, columns= ['aspect', 'sentiment', 'score'])"
   ]
  },
  {
   "cell_type": "code",
   "execution_count": 23,
   "id": "1b92b172",
   "metadata": {},
   "outputs": [],
   "source": [
    "# sentiment_result"
   ]
  },
  {
   "cell_type": "code",
   "execution_count": 24,
   "id": "0b0bc075",
   "metadata": {},
   "outputs": [
    {
     "name": "stdout",
     "output_type": "stream",
     "text": [
      "Requirement already satisfied: monkeylearn in /Users/ankushsingal/opt/anaconda3/lib/python3.8/site-packages (3.6.0)\n",
      "Requirement already satisfied: requests>=2.8.1 in /Users/ankushsingal/opt/anaconda3/lib/python3.8/site-packages (from monkeylearn) (2.26.0)\n",
      "Requirement already satisfied: six>=1.10.0 in /Users/ankushsingal/opt/anaconda3/lib/python3.8/site-packages (from monkeylearn) (1.16.0)\n",
      "Requirement already satisfied: certifi>=2017.4.17 in /Users/ankushsingal/opt/anaconda3/lib/python3.8/site-packages (from requests>=2.8.1->monkeylearn) (2021.10.8)\n",
      "Requirement already satisfied: urllib3<1.27,>=1.21.1 in /Users/ankushsingal/opt/anaconda3/lib/python3.8/site-packages (from requests>=2.8.1->monkeylearn) (1.26.7)\n",
      "Requirement already satisfied: idna<4,>=2.5 in /Users/ankushsingal/opt/anaconda3/lib/python3.8/site-packages (from requests>=2.8.1->monkeylearn) (3.3)\n",
      "Requirement already satisfied: charset-normalizer~=2.0.0 in /Users/ankushsingal/opt/anaconda3/lib/python3.8/site-packages (from requests>=2.8.1->monkeylearn) (2.0.7)\n",
      "\u001b[33mWARNING: You are using pip version 21.2.4; however, version 22.1.2 is available.\n",
      "You should consider upgrading via the '/Users/ankushsingal/opt/anaconda3/bin/python -m pip install --upgrade pip' command.\u001b[0m\n",
      "Requirement already satisfied: textblob in /Users/ankushsingal/opt/anaconda3/lib/python3.8/site-packages (0.17.1)\n",
      "Requirement already satisfied: nltk>=3.1 in /Users/ankushsingal/opt/anaconda3/lib/python3.8/site-packages (from textblob) (3.6.5)\n",
      "Requirement already satisfied: regex>=2021.8.3 in /Users/ankushsingal/opt/anaconda3/lib/python3.8/site-packages (from nltk>=3.1->textblob) (2021.11.10)\n",
      "Requirement already satisfied: joblib in /Users/ankushsingal/opt/anaconda3/lib/python3.8/site-packages (from nltk>=3.1->textblob) (1.1.0)\n",
      "Requirement already satisfied: click in /Users/ankushsingal/opt/anaconda3/lib/python3.8/site-packages (from nltk>=3.1->textblob) (7.1.2)\n",
      "Requirement already satisfied: tqdm in /Users/ankushsingal/opt/anaconda3/lib/python3.8/site-packages (from nltk>=3.1->textblob) (4.62.3)\n",
      "\u001b[33mWARNING: You are using pip version 21.2.4; however, version 22.1.2 is available.\n",
      "You should consider upgrading via the '/Users/ankushsingal/opt/anaconda3/bin/python -m pip install --upgrade pip' command.\u001b[0m\n"
     ]
    }
   ],
   "source": [
    "!pip install monkeylearn\n",
    "!pip install textblob"
   ]
  },
  {
   "cell_type": "code",
   "execution_count": 436,
   "id": "197c7f39",
   "metadata": {},
   "outputs": [],
   "source": [
    "from monkeylearn import MonkeyLearn\n",
    "from textblob import TextBlob"
   ]
  },
  {
   "cell_type": "code",
   "execution_count": 437,
   "id": "a5446439",
   "metadata": {},
   "outputs": [],
   "source": [
    "# instantiate the client using your API key\n",
    "ml = MonkeyLearn('9ee10f9c870c25dcd0ffcc64b9ceb47fbe06b34b')\n",
    "\n",
    "# opinion unit extractor\n",
    "model_id = 'ex_N4aFcea3'"
   ]
  },
  {
   "cell_type": "code",
   "execution_count": 438,
   "id": "1bfe5e15",
   "metadata": {},
   "outputs": [],
   "source": [
    "def preprocess2(text):\n",
    "    #to lowercase\n",
    "    text = str(text).lower()\n",
    "    #remove urls\n",
    "    urls = extractor.find_urls(text)\n",
    "    for url in urls:\n",
    "        text = text.replace(url, '')\n",
    "    #remove new lines\n",
    "    text = text.replace('\\\\n',' ')\n",
    "    #remove none meaningful    \n",
    "    text = re.sub(r'\\\\x[0-9a-f]{2}', '',text)\n",
    "    #removes retweets & cc\n",
    "    text = text.replace(r'rt', '')\n",
    "    #remove emails\n",
    "    text = re.sub(r'\\S*@\\S*\\s?',' ',text)\n",
    "    #remove mentions\n",
    "    text = re.sub(r'@\\S+', ' ', text)\n",
    "    #contractions\n",
    "    text = contractions.fix(text)\n",
    "    #remove hashtags\n",
    "    text = re.sub(r'@\\S+', ' ', text)\n",
    "    #remove emojis\n",
    "    text = re.sub(r'[^\\x00-\\x7f]+', ' ', text)\n",
    "\n",
    "    #remove all punct\n",
    "    text = re.sub('[^A-z0-9]', ' ', text)\n",
    "    #remove extras whitespaces\n",
    "    text = re.sub(' +', ' ', text)\n",
    "    return text"
   ]
  },
  {
   "cell_type": "code",
   "execution_count": 419,
   "id": "bb49fff4",
   "metadata": {},
   "outputs": [],
   "source": [
    "import numpy as np"
   ]
  },
  {
   "cell_type": "code",
   "execution_count": 441,
   "id": "8c80aafb",
   "metadata": {},
   "outputs": [],
   "source": [
    "twitter_content2 = get_tweets(hashtag, consumer_key, consumer_secret, access_token, access_token_secret, tweet_count=50)"
   ]
  },
  {
   "cell_type": "code",
   "execution_count": 442,
   "id": "79425936",
   "metadata": {},
   "outputs": [],
   "source": [
    "twitter_content2['tweets'] = twitter_content2['tweets'].apply(preprocess2)"
   ]
  },
  {
   "cell_type": "code",
   "execution_count": 443,
   "id": "0bacc447",
   "metadata": {},
   "outputs": [],
   "source": [
    "twitter_content2.dropna(how=\"any\", inplace=True)\n"
   ]
  },
  {
   "cell_type": "code",
   "execution_count": 444,
   "id": "f66145da",
   "metadata": {},
   "outputs": [],
   "source": [
    "# twitter_content2.drop([112,166], axis=0,inplace=True)"
   ]
  },
  {
   "cell_type": "code",
   "execution_count": 447,
   "id": "d86df1ea",
   "metadata": {},
   "outputs": [
    {
     "data": {
      "text/html": [
       "<div>\n",
       "<style scoped>\n",
       "    .dataframe tbody tr th:only-of-type {\n",
       "        vertical-align: middle;\n",
       "    }\n",
       "\n",
       "    .dataframe tbody tr th {\n",
       "        vertical-align: top;\n",
       "    }\n",
       "\n",
       "    .dataframe thead th {\n",
       "        text-align: right;\n",
       "    }\n",
       "</style>\n",
       "<table border=\"1\" class=\"dataframe\">\n",
       "  <thead>\n",
       "    <tr style=\"text-align: right;\">\n",
       "      <th></th>\n",
       "      <th>tweets</th>\n",
       "      <th>created_on</th>\n",
       "    </tr>\n",
       "  </thead>\n",
       "  <tbody>\n",
       "    <tr>\n",
       "      <th>0</th>\n",
       "      <td>b sky after rain sunset clouds shotononeplus oneplus oneplus7pro nfta nftfam nftgiveaway photo</td>\n",
       "      <td>2022-07-09 21:41:48+00:00</td>\n",
       "    </tr>\n",
       "    <tr>\n",
       "      <th>1</th>\n",
       "      <td>b sky after rain sunset clouds shotononeplus oneplus oneplus7pro nfta nftfam nftgiveaway photo</td>\n",
       "      <td>2022-07-09 13:54:35+00:00</td>\n",
       "    </tr>\n",
       "    <tr>\n",
       "      <th>2</th>\n",
       "      <td>b 2019 s oneplus 7 oneplus 7t oneplus 7 pro oneplus 7t pro series will soon receive oxygenos 12 stable update</td>\n",
       "      <td>2022-07-09 10:00:14+00:00</td>\n",
       "    </tr>\n",
       "    <tr>\n",
       "      <th>3</th>\n",
       "      <td>notingphone1 coming soon i am oneplus7pro user</td>\n",
       "      <td>2022-07-08 21:31:57+00:00</td>\n",
       "    </tr>\n",
       "    <tr>\n",
       "      <th>4</th>\n",
       "      <td>i was using oneplus7pro and after having system update it got slow and it took more time to charge s</td>\n",
       "      <td>2022-07-08 19:17:31+00:00</td>\n",
       "    </tr>\n",
       "    <tr>\n",
       "      <th>5</th>\n",
       "      <td>oneplus7pro now it is coz of updates</td>\n",
       "      <td>2022-07-07 16:59:28+00:00</td>\n",
       "    </tr>\n",
       "    <tr>\n",
       "      <th>6</th>\n",
       "      <td>b oneplus 7 pro 7t and 7t pro can try paranoid android sapphire beta 2 news oneplus7pro oneplus7t oneplus7tpro</td>\n",
       "      <td>2022-07-05 13:05:56+00:00</td>\n",
       "    </tr>\n",
       "    <tr>\n",
       "      <th>7</th>\n",
       "      <td>b wallpapers dotted everywhere in wales oneplus9pro oneplus7pro</td>\n",
       "      <td>2022-07-03 17:05:56+00:00</td>\n",
       "    </tr>\n",
       "    <tr>\n",
       "      <th>8</th>\n",
       "      <td>b wallpapers dotted everywhere in wales oneplus9pro oneplus7pro</td>\n",
       "      <td>2022-07-03 15:34:31+00:00</td>\n",
       "    </tr>\n",
       "    <tr>\n",
       "      <th>9</th>\n",
       "      <td>wallpapers dotted everywhere in wales oneplus9pro oneplus7pro</td>\n",
       "      <td>2022-07-03 14:53:43+00:00</td>\n",
       "    </tr>\n",
       "    <tr>\n",
       "      <th>10</th>\n",
       "      <td>b oneplus 8 pro will have 120hz display \\ breakingnews oneplus oneplus8 oneplus7pro oneplus7t of</td>\n",
       "      <td>2022-07-03 13:57:00+00:00</td>\n",
       "    </tr>\n",
       "    <tr>\n",
       "      <th>11</th>\n",
       "      <td>b oppo reno 10x zoom review price features \\ oppo opporeno oppof11pro opporeno10xzoom android</td>\n",
       "      <td>2022-07-03 13:56:07+00:00</td>\n",
       "    </tr>\n",
       "    <tr>\n",
       "      <th>12</th>\n",
       "      <td>b oneplus 7 amp oneplus 7 pro oxygenos 12 with android 12 open beta 1 released on 1st july 2022 read more</td>\n",
       "      <td>2022-07-01 15:59:39+00:00</td>\n",
       "    </tr>\n",
       "    <tr>\n",
       "      <th>13</th>\n",
       "      <td>b paranoid android sapphire beta 2 is now available for the oneplus 7 pro download it on our website \\</td>\n",
       "      <td>2022-07-01 14:40:29+00:00</td>\n",
       "    </tr>\n",
       "    <tr>\n",
       "      <th>14</th>\n",
       "      <td>b paranoid android sapphire beta 2 is now available for the oneplus 7 pro download it on our website \\</td>\n",
       "      <td>2022-07-01 14:29:38+00:00</td>\n",
       "    </tr>\n",
       "    <tr>\n",
       "      <th>15</th>\n",
       "      <td>b paranoid android sapphire beta 2 is now available for the oneplus 7 pro download it on our website</td>\n",
       "      <td>2022-07-01 14:28:02+00:00</td>\n",
       "    </tr>\n",
       "    <tr>\n",
       "      <th>16</th>\n",
       "      <td>b oneplus launched the nord 2t mid range phone in india oneplus oneplus5 oneplus6 oneplus6t oneplus7</td>\n",
       "      <td>2022-07-01 12:50:39+00:00</td>\n",
       "    </tr>\n",
       "    <tr>\n",
       "      <th>17</th>\n",
       "      <td>b oneplus releases android 12 beta for its oneplus 7 oneplus 7 pro oneplus 7t and oneplus 7t pro models</td>\n",
       "      <td>2022-07-01 09:37:22+00:00</td>\n",
       "    </tr>\n",
       "    <tr>\n",
       "      <th>18</th>\n",
       "      <td>b oneplus 7 series picks up oxygenos 12 open beta 1 update \\ oneplus7 oneplus7pro</td>\n",
       "      <td>2022-07-01 09:29:09+00:00</td>\n",
       "    </tr>\n",
       "    <tr>\n",
       "      <th>19</th>\n",
       "      <td>b oneplus 7 7t pae l update oxygenos 12 beta con android 12 android12 oneplus7 oneplus7pro oneplus7t</td>\n",
       "      <td>2022-07-01 09:15:57+00:00</td>\n",
       "    </tr>\n",
       "    <tr>\n",
       "      <th>20</th>\n",
       "      <td>b oxygenos 12 open beta 1 finally released for the oneplus 7 7 pro 7t 7t pro news oxygenos12 oneplus7 oneplus7t</td>\n",
       "      <td>2022-07-01 04:40:26+00:00</td>\n",
       "    </tr>\n",
       "  </tbody>\n",
       "</table>\n",
       "</div>"
      ],
      "text/plain": [
       "                                                                                                              tweets  \\\n",
       "0                    b sky after rain sunset clouds shotononeplus oneplus oneplus7pro nfta nftfam nftgiveaway photo    \n",
       "1                    b sky after rain sunset clouds shotononeplus oneplus oneplus7pro nfta nftfam nftgiveaway photo    \n",
       "2     b 2019 s oneplus 7 oneplus 7t oneplus 7 pro oneplus 7t pro series will soon receive oxygenos 12 stable update    \n",
       "3                                                                    notingphone1 coming soon i am oneplus7pro user    \n",
       "4              i was using oneplus7pro and after having system update it got slow and it took more time to charge s    \n",
       "5                                                                              oneplus7pro now it is coz of updates    \n",
       "6    b oneplus 7 pro 7t and 7t pro can try paranoid android sapphire beta 2 news oneplus7pro oneplus7t oneplus7tpro    \n",
       "7                                                   b wallpapers dotted everywhere in wales oneplus9pro oneplus7pro    \n",
       "8                                                   b wallpapers dotted everywhere in wales oneplus9pro oneplus7pro    \n",
       "9                                                     wallpapers dotted everywhere in wales oneplus9pro oneplus7pro    \n",
       "10                  b oneplus 8 pro will have 120hz display \\ breakingnews oneplus oneplus8 oneplus7pro oneplus7t of   \n",
       "11                    b oppo reno 10x zoom review price features \\ oppo opporeno oppof11pro opporeno10xzoom android    \n",
       "12        b oneplus 7 amp oneplus 7 pro oxygenos 12 with android 12 open beta 1 released on 1st july 2022 read more    \n",
       "13           b paranoid android sapphire beta 2 is now available for the oneplus 7 pro download it on our website \\    \n",
       "14           b paranoid android sapphire beta 2 is now available for the oneplus 7 pro download it on our website \\    \n",
       "15             b paranoid android sapphire beta 2 is now available for the oneplus 7 pro download it on our website    \n",
       "16             b oneplus launched the nord 2t mid range phone in india oneplus oneplus5 oneplus6 oneplus6t oneplus7    \n",
       "17          b oneplus releases android 12 beta for its oneplus 7 oneplus 7 pro oneplus 7t and oneplus 7t pro models    \n",
       "18                                b oneplus 7 series picks up oxygenos 12 open beta 1 update \\ oneplus7 oneplus7pro    \n",
       "19             b oneplus 7 7t pae l update oxygenos 12 beta con android 12 android12 oneplus7 oneplus7pro oneplus7t    \n",
       "20  b oxygenos 12 open beta 1 finally released for the oneplus 7 7 pro 7t 7t pro news oxygenos12 oneplus7 oneplus7t    \n",
       "\n",
       "                  created_on  \n",
       "0  2022-07-09 21:41:48+00:00  \n",
       "1  2022-07-09 13:54:35+00:00  \n",
       "2  2022-07-09 10:00:14+00:00  \n",
       "3  2022-07-08 21:31:57+00:00  \n",
       "4  2022-07-08 19:17:31+00:00  \n",
       "5  2022-07-07 16:59:28+00:00  \n",
       "6  2022-07-05 13:05:56+00:00  \n",
       "7  2022-07-03 17:05:56+00:00  \n",
       "8  2022-07-03 15:34:31+00:00  \n",
       "9  2022-07-03 14:53:43+00:00  \n",
       "10 2022-07-03 13:57:00+00:00  \n",
       "11 2022-07-03 13:56:07+00:00  \n",
       "12 2022-07-01 15:59:39+00:00  \n",
       "13 2022-07-01 14:40:29+00:00  \n",
       "14 2022-07-01 14:29:38+00:00  \n",
       "15 2022-07-01 14:28:02+00:00  \n",
       "16 2022-07-01 12:50:39+00:00  \n",
       "17 2022-07-01 09:37:22+00:00  \n",
       "18 2022-07-01 09:29:09+00:00  \n",
       "19 2022-07-01 09:15:57+00:00  \n",
       "20 2022-07-01 04:40:26+00:00  "
      ]
     },
     "execution_count": 447,
     "metadata": {},
     "output_type": "execute_result"
    }
   ],
   "source": [
    "twitter_content2"
   ]
  },
  {
   "cell_type": "code",
   "execution_count": 448,
   "id": "25a3ff5b",
   "metadata": {},
   "outputs": [],
   "source": [
    "# def opinion_parser(text):\n",
    "#     \"\"\"\n",
    "#       Extract the individual opinion unit (or phrase) within the text\n",
    "#       that contains the aspect term. \n",
    "#     \"\"\"\n",
    "#     result = ml.extractors.extract(model_id, [text])\n",
    "#     time.sleep(1)\n",
    "  \n",
    "#     extractions = result.body[0]['extractions']\n",
    "\n",
    "#     num__opinion_units = len(extractions)\n",
    "\n",
    "#     for i in range(num__opinion_units):\n",
    "#         opinion_unit = \"\".join([extractions[i]['extracted_text']])\n",
    "    \n",
    "#         if re.search(\"colors?\", opinion_unit):\n",
    "#              return opinion_unit\n",
    "  \n",
    "#     return \"\""
   ]
  },
  {
   "cell_type": "code",
   "execution_count": 449,
   "id": "b96df9c0",
   "metadata": {},
   "outputs": [],
   "source": [
    "#twitter_content2[\"\"] = twitter_content2[\"tweets\"].progress_apply(opinion_parser)"
   ]
  },
  {
   "cell_type": "code",
   "execution_count": 450,
   "id": "1d4b384b",
   "metadata": {},
   "outputs": [
    {
     "data": {
      "text/plain": [
       "['b sky after rain sunset clouds shotononeplus oneplus oneplus7pro nfta nftfam nftgiveaway photo',\n",
       " 'b sky after rain sunset clouds shotononeplus oneplus oneplus7pro nfta nftfam nftgiveaway photo',\n",
       " 'b 2019 s oneplus 7 oneplus 7t oneplus 7 pro oneplus 7t pro series will soon receive oxygenos 12 stable update',\n",
       " 'notingphone1 coming soon i am oneplus7pro user',\n",
       " 'i was using oneplus7pro and after having system update it got slow and it took more time to charge s',\n",
       " 'oneplus7pro now it is coz of updates',\n",
       " 'b oneplus 7 pro 7t and 7t pro can try paranoid android sapphire beta 2 news oneplus7pro oneplus7t oneplus7tpro',\n",
       " 'b wallpapers dotted everywhere in wales oneplus9pro oneplus7pro',\n",
       " 'b wallpapers dotted everywhere in wales oneplus9pro oneplus7pro',\n",
       " 'wallpapers dotted everywhere in wales oneplus9pro oneplus7pro',\n",
       " 'b oneplus 8 pro will have 120hz display \\\\ breakingnews oneplus oneplus8 oneplus7pro oneplus7t of',\n",
       " 'b oppo reno 10x zoom review price features \\\\ oppo opporeno oppof11pro opporeno10xzoom android',\n",
       " 'b oneplus 7 amp oneplus 7 pro oxygenos 12 with android 12 open beta 1 released on 1st july 2022 read more',\n",
       " 'b paranoid android sapphire beta 2 is now available for the oneplus 7 pro download it on our website \\\\',\n",
       " 'b paranoid android sapphire beta 2 is now available for the oneplus 7 pro download it on our website \\\\',\n",
       " 'b paranoid android sapphire beta 2 is now available for the oneplus 7 pro download it on our website',\n",
       " 'b oneplus launched the nord 2t mid range phone in india oneplus oneplus5 oneplus6 oneplus6t oneplus7',\n",
       " 'b oneplus releases android 12 beta for its oneplus 7 oneplus 7 pro oneplus 7t and oneplus 7t pro models',\n",
       " 'b oneplus 7 series picks up oxygenos 12 open beta 1 update \\\\ oneplus7 oneplus7pro',\n",
       " 'b oneplus 7 7t pae l update oxygenos 12 beta con android 12 android12 oneplus7 oneplus7pro oneplus7t',\n",
       " 'b oxygenos 12 open beta 1 finally released for the oneplus 7 7 pro 7t 7t pro news oxygenos12 oneplus7 oneplus7t']"
      ]
     },
     "execution_count": 450,
     "metadata": {},
     "output_type": "execute_result"
    }
   ],
   "source": [
    "data = [text for text in twitter_content2[\"tweets\"]]\n",
    "result = ml.extractors.extract(model_id, data)\n",
    "dataDict = len(result.body)\n",
    "#extractions = result.body[0]['extractions']\n",
    "num1 = [\"\".join([result.body[i]['extractions'][0]['extracted_text']]) for i in range(dataDict)]\n",
    "# # for item in dataDict[0]['extractions']['extracted_text']:\n",
    "# #   print(item['parsed_value'])\n",
    "# # for i in range(dataDict):\n",
    "# #         opinion_unit = \"\".join([extractions[i]['extracted_text']])\n",
    "# # return opinion_unit\n",
    "num1\n",
    "#extractions"
   ]
  },
  {
   "cell_type": "code",
   "execution_count": 451,
   "id": "8e635608",
   "metadata": {},
   "outputs": [
    {
     "data": {
      "text/html": [
       "<div>\n",
       "<style scoped>\n",
       "    .dataframe tbody tr th:only-of-type {\n",
       "        vertical-align: middle;\n",
       "    }\n",
       "\n",
       "    .dataframe tbody tr th {\n",
       "        vertical-align: top;\n",
       "    }\n",
       "\n",
       "    .dataframe thead th {\n",
       "        text-align: right;\n",
       "    }\n",
       "</style>\n",
       "<table border=\"1\" class=\"dataframe\">\n",
       "  <thead>\n",
       "    <tr style=\"text-align: right;\">\n",
       "      <th></th>\n",
       "      <th>tweets</th>\n",
       "      <th>created_on</th>\n",
       "      <th>Opinion</th>\n",
       "    </tr>\n",
       "  </thead>\n",
       "  <tbody>\n",
       "    <tr>\n",
       "      <th>0</th>\n",
       "      <td>b sky after rain sunset clouds shotononeplus oneplus oneplus7pro nfta nftfam nftgiveaway photo</td>\n",
       "      <td>2022-07-09 21:41:48+00:00</td>\n",
       "      <td>b sky after rain sunset clouds shotononeplus oneplus oneplus7pro nfta nftfam nftgiveaway photo</td>\n",
       "    </tr>\n",
       "    <tr>\n",
       "      <th>1</th>\n",
       "      <td>b sky after rain sunset clouds shotononeplus oneplus oneplus7pro nfta nftfam nftgiveaway photo</td>\n",
       "      <td>2022-07-09 13:54:35+00:00</td>\n",
       "      <td>b sky after rain sunset clouds shotononeplus oneplus oneplus7pro nfta nftfam nftgiveaway photo</td>\n",
       "    </tr>\n",
       "    <tr>\n",
       "      <th>2</th>\n",
       "      <td>b 2019 s oneplus 7 oneplus 7t oneplus 7 pro oneplus 7t pro series will soon receive oxygenos 12 stable update</td>\n",
       "      <td>2022-07-09 10:00:14+00:00</td>\n",
       "      <td>b 2019 s oneplus 7 oneplus 7t oneplus 7 pro oneplus 7t pro series will soon receive oxygenos 12 stable update</td>\n",
       "    </tr>\n",
       "    <tr>\n",
       "      <th>3</th>\n",
       "      <td>notingphone1 coming soon i am oneplus7pro user</td>\n",
       "      <td>2022-07-08 21:31:57+00:00</td>\n",
       "      <td>notingphone1 coming soon i am oneplus7pro user</td>\n",
       "    </tr>\n",
       "    <tr>\n",
       "      <th>4</th>\n",
       "      <td>i was using oneplus7pro and after having system update it got slow and it took more time to charge s</td>\n",
       "      <td>2022-07-08 19:17:31+00:00</td>\n",
       "      <td>i was using oneplus7pro and after having system update it got slow and it took more time to charge s</td>\n",
       "    </tr>\n",
       "  </tbody>\n",
       "</table>\n",
       "</div>"
      ],
      "text/plain": [
       "                                                                                                           tweets  \\\n",
       "0                 b sky after rain sunset clouds shotononeplus oneplus oneplus7pro nfta nftfam nftgiveaway photo    \n",
       "1                 b sky after rain sunset clouds shotononeplus oneplus oneplus7pro nfta nftfam nftgiveaway photo    \n",
       "2  b 2019 s oneplus 7 oneplus 7t oneplus 7 pro oneplus 7t pro series will soon receive oxygenos 12 stable update    \n",
       "3                                                                 notingphone1 coming soon i am oneplus7pro user    \n",
       "4           i was using oneplus7pro and after having system update it got slow and it took more time to charge s    \n",
       "\n",
       "                 created_on  \\\n",
       "0 2022-07-09 21:41:48+00:00   \n",
       "1 2022-07-09 13:54:35+00:00   \n",
       "2 2022-07-09 10:00:14+00:00   \n",
       "3 2022-07-08 21:31:57+00:00   \n",
       "4 2022-07-08 19:17:31+00:00   \n",
       "\n",
       "                                                                                                         Opinion  \n",
       "0                 b sky after rain sunset clouds shotononeplus oneplus oneplus7pro nfta nftfam nftgiveaway photo  \n",
       "1                 b sky after rain sunset clouds shotononeplus oneplus oneplus7pro nfta nftfam nftgiveaway photo  \n",
       "2  b 2019 s oneplus 7 oneplus 7t oneplus 7 pro oneplus 7t pro series will soon receive oxygenos 12 stable update  \n",
       "3                                                                 notingphone1 coming soon i am oneplus7pro user  \n",
       "4           i was using oneplus7pro and after having system update it got slow and it took more time to charge s  "
      ]
     },
     "execution_count": 451,
     "metadata": {},
     "output_type": "execute_result"
    }
   ],
   "source": [
    "twitter_content2[\"Opinion\"] = num1\n",
    "      \n",
    "twitter_content2.head()"
   ]
  },
  {
   "cell_type": "markdown",
   "id": "0083fb1c",
   "metadata": {},
   "source": [
    "# Predict Polarity"
   ]
  },
  {
   "cell_type": "code",
   "execution_count": 454,
   "id": "cbb1d021",
   "metadata": {},
   "outputs": [],
   "source": [
    "def polarity(text):\n",
    "    \"\"\"\n",
    "  Predict the polarity of the text using TextBlob.\n",
    "  Results range from negative to positive on a scale of [-1, +1].\n",
    "    \"\"\"\n",
    "    testimonial = TextBlob(text)\n",
    "    return round(testimonial.sentiment.polarity, 2)"
   ]
  },
  {
   "cell_type": "code",
   "execution_count": 455,
   "id": "48ce51f4",
   "metadata": {},
   "outputs": [
    {
     "data": {
      "application/vnd.jupyter.widget-view+json": {
       "model_id": "4af4eb213aeb4606b25084598f7227fa",
       "version_major": 2,
       "version_minor": 0
      },
      "text/plain": [
       "  0%|          | 0/21 [00:00<?, ?it/s]"
      ]
     },
     "metadata": {},
     "output_type": "display_data"
    }
   ],
   "source": [
    "twitter_content2[\"Polarity\"] = twitter_content2[\"Opinion\"].progress_apply(polarity)"
   ]
  },
  {
   "cell_type": "markdown",
   "id": "7ba1e063",
   "metadata": {},
   "source": [
    "# Identify Descriptors"
   ]
  },
  {
   "cell_type": "code",
   "execution_count": 456,
   "id": "870bdabd",
   "metadata": {},
   "outputs": [],
   "source": [
    "def dependency_matching(text):\n",
    "    \"\"\"\n",
    "  Identify and extract word(s) that are describing\n",
    "  the aspect term.\n",
    "    \"\"\"\n",
    "    doc = nlp(text)\n",
    "  \n",
    "    tags = ['JJ', 'JJR', 'JJS','NN','CC']\n",
    "    dependents = ['acomp', 'advmod']\n",
    "\n",
    "    extraction = []\n",
    "    for i, token in enumerate(doc):\n",
    "      \n",
    "      # location of color in sequence\n",
    "        if re.search(\"color\", token.text):\n",
    "            color_pos = i\n",
    "      \n",
    "        if ((token.dep_ in dependents) or (token.tag_ in tags)) and re.search(\"color\", token.head.text):\n",
    "            extraction.append(token.text)\n",
    "\n",
    "        if token.dep_ == 'acomp':\n",
    "            extraction.append(token.text)\n",
    "          \n",
    "            children = [child for child in token.children]\n",
    "            if len(children) > 0 and str(children[0]).isalpha():\n",
    "                extraction.insert(0, str(children[0]))\n",
    "          \n",
    "        for t in range(4):\n",
    "                try:\n",
    "                    if doc[i-t].dep_ == 'neg':\n",
    "                        negation = doc[i-t].text\n",
    "                        extraction.insert(0, negation)\n",
    "                except:\n",
    "                    continue\n",
    "      \n",
    "      # look for adjectives near the aspect if no matches were found yet\n",
    "        if len(extraction) == 0 and i == len(doc)-1:\n",
    "            for t in range(-6,6):\n",
    "                try:\n",
    "                    if doc[color_pos+t].tag_ in tags:\n",
    "                        if doc[color_pos+t].text in extraction:\n",
    "                            continue\n",
    "                            extraction.append(doc[color_pos+t].text)\n",
    "                      \n",
    "                            children = [child for child in doc[color_pos+t].children]\n",
    "                        if len(children) > 0 and str(children[0]).isalpha():\n",
    "                             extraction.insert(0, str(children[0]))\n",
    "                except:\n",
    "                    continue\n",
    "\n",
    "    return \" \".join(extraction)"
   ]
  },
  {
   "cell_type": "code",
   "execution_count": 457,
   "id": "832e29e0",
   "metadata": {},
   "outputs": [
    {
     "data": {
      "application/vnd.jupyter.widget-view+json": {
       "model_id": "a469848169514394b178436482142493",
       "version_major": 2,
       "version_minor": 0
      },
      "text/plain": [
       "  0%|          | 0/21 [00:00<?, ?it/s]"
      ]
     },
     "metadata": {},
     "output_type": "display_data"
    }
   ],
   "source": [
    "twitter_content2['Descriptors'] = twitter_content2['Opinion'].progress_apply(dependency_matching)\n"
   ]
  },
  {
   "cell_type": "code",
   "execution_count": 458,
   "id": "b6b8adc0",
   "metadata": {},
   "outputs": [
    {
     "data": {
      "application/vnd.jupyter.widget-view+json": {
       "model_id": "9163b24d594e4f8797cc31e2e92bd574",
       "version_major": 2,
       "version_minor": 0
      },
      "text/plain": [
       "  0%|          | 0/21 [00:00<?, ?it/s]"
      ]
     },
     "metadata": {},
     "output_type": "display_data"
    }
   ],
   "source": [
    "twitter_content2['Descriptors1'] = twitter_content2['Opinion'].progress_apply(get_noun)"
   ]
  },
  {
   "cell_type": "code",
   "execution_count": 459,
   "id": "fcab2053",
   "metadata": {},
   "outputs": [
    {
     "data": {
      "text/html": [
       "<div>\n",
       "<style scoped>\n",
       "    .dataframe tbody tr th:only-of-type {\n",
       "        vertical-align: middle;\n",
       "    }\n",
       "\n",
       "    .dataframe tbody tr th {\n",
       "        vertical-align: top;\n",
       "    }\n",
       "\n",
       "    .dataframe thead th {\n",
       "        text-align: right;\n",
       "    }\n",
       "</style>\n",
       "<table border=\"1\" class=\"dataframe\">\n",
       "  <thead>\n",
       "    <tr style=\"text-align: right;\">\n",
       "      <th></th>\n",
       "      <th>tweets</th>\n",
       "      <th>created_on</th>\n",
       "      <th>Opinion</th>\n",
       "      <th>Polarity</th>\n",
       "      <th>Descriptors</th>\n",
       "      <th>Descriptors1</th>\n",
       "    </tr>\n",
       "  </thead>\n",
       "  <tbody>\n",
       "    <tr>\n",
       "      <th>0</th>\n",
       "      <td>b sky after rain sunset clouds shotononeplus oneplus oneplus7pro nfta nftfam nftgiveaway photo</td>\n",
       "      <td>2022-07-09 21:41:48+00:00</td>\n",
       "      <td>b sky after rain sunset clouds shotononeplus oneplus oneplus7pro nfta nftfam nftgiveaway photo</td>\n",
       "      <td>0.00</td>\n",
       "      <td></td>\n",
       "      <td>{clouds, sunset, photo, b, sky, rain}</td>\n",
       "    </tr>\n",
       "    <tr>\n",
       "      <th>1</th>\n",
       "      <td>b sky after rain sunset clouds shotononeplus oneplus oneplus7pro nfta nftfam nftgiveaway photo</td>\n",
       "      <td>2022-07-09 13:54:35+00:00</td>\n",
       "      <td>b sky after rain sunset clouds shotononeplus oneplus oneplus7pro nfta nftfam nftgiveaway photo</td>\n",
       "      <td>0.00</td>\n",
       "      <td></td>\n",
       "      <td>{clouds, sunset, photo, b, sky, rain}</td>\n",
       "    </tr>\n",
       "    <tr>\n",
       "      <th>2</th>\n",
       "      <td>b 2019 s oneplus 7 oneplus 7t oneplus 7 pro oneplus 7t pro series will soon receive oxygenos 12 stable update</td>\n",
       "      <td>2022-07-09 10:00:14+00:00</td>\n",
       "      <td>b 2019 s oneplus 7 oneplus 7t oneplus 7 pro oneplus 7t pro series will soon receive oxygenos 12 stable update</td>\n",
       "      <td>0.00</td>\n",
       "      <td></td>\n",
       "      <td>{update, oxygenos, b, series, s}</td>\n",
       "    </tr>\n",
       "    <tr>\n",
       "      <th>3</th>\n",
       "      <td>notingphone1 coming soon i am oneplus7pro user</td>\n",
       "      <td>2022-07-08 21:31:57+00:00</td>\n",
       "      <td>notingphone1 coming soon i am oneplus7pro user</td>\n",
       "      <td>0.00</td>\n",
       "      <td></td>\n",
       "      <td>{user}</td>\n",
       "    </tr>\n",
       "    <tr>\n",
       "      <th>4</th>\n",
       "      <td>i was using oneplus7pro and after having system update it got slow and it took more time to charge s</td>\n",
       "      <td>2022-07-08 19:17:31+00:00</td>\n",
       "      <td>i was using oneplus7pro and after having system update it got slow and it took more time to charge s</td>\n",
       "      <td>0.10</td>\n",
       "      <td>slow</td>\n",
       "      <td>{system, time, s, i}</td>\n",
       "    </tr>\n",
       "    <tr>\n",
       "      <th>5</th>\n",
       "      <td>oneplus7pro now it is coz of updates</td>\n",
       "      <td>2022-07-07 16:59:28+00:00</td>\n",
       "      <td>oneplus7pro now it is coz of updates</td>\n",
       "      <td>0.00</td>\n",
       "      <td></td>\n",
       "      <td>{coz, updates}</td>\n",
       "    </tr>\n",
       "    <tr>\n",
       "      <th>6</th>\n",
       "      <td>b oneplus 7 pro 7t and 7t pro can try paranoid android sapphire beta 2 news oneplus7pro oneplus7t oneplus7tpro</td>\n",
       "      <td>2022-07-05 13:05:56+00:00</td>\n",
       "      <td>b oneplus 7 pro 7t and 7t pro can try paranoid android sapphire beta 2 news oneplus7pro oneplus7t oneplus7tpro</td>\n",
       "      <td>0.00</td>\n",
       "      <td></td>\n",
       "      <td>{pro, b, sapphire, news, beta}</td>\n",
       "    </tr>\n",
       "    <tr>\n",
       "      <th>7</th>\n",
       "      <td>b wallpapers dotted everywhere in wales oneplus9pro oneplus7pro</td>\n",
       "      <td>2022-07-03 17:05:56+00:00</td>\n",
       "      <td>b wallpapers dotted everywhere in wales oneplus9pro oneplus7pro</td>\n",
       "      <td>0.00</td>\n",
       "      <td></td>\n",
       "      <td>{b, wallpapers, wales}</td>\n",
       "    </tr>\n",
       "    <tr>\n",
       "      <th>8</th>\n",
       "      <td>b wallpapers dotted everywhere in wales oneplus9pro oneplus7pro</td>\n",
       "      <td>2022-07-03 15:34:31+00:00</td>\n",
       "      <td>b wallpapers dotted everywhere in wales oneplus9pro oneplus7pro</td>\n",
       "      <td>0.00</td>\n",
       "      <td></td>\n",
       "      <td>{b, wallpapers, wales}</td>\n",
       "    </tr>\n",
       "    <tr>\n",
       "      <th>9</th>\n",
       "      <td>wallpapers dotted everywhere in wales oneplus9pro oneplus7pro</td>\n",
       "      <td>2022-07-03 14:53:43+00:00</td>\n",
       "      <td>wallpapers dotted everywhere in wales oneplus9pro oneplus7pro</td>\n",
       "      <td>0.00</td>\n",
       "      <td></td>\n",
       "      <td>{wallpapers, wales}</td>\n",
       "    </tr>\n",
       "    <tr>\n",
       "      <th>10</th>\n",
       "      <td>b oneplus 8 pro will have 120hz display \\ breakingnews oneplus oneplus8 oneplus7pro oneplus7t of</td>\n",
       "      <td>2022-07-03 13:57:00+00:00</td>\n",
       "      <td>b oneplus 8 pro will have 120hz display \\ breakingnews oneplus oneplus8 oneplus7pro oneplus7t of</td>\n",
       "      <td>0.00</td>\n",
       "      <td></td>\n",
       "      <td>{pro, oneplus7t, b, \\, display}</td>\n",
       "    </tr>\n",
       "    <tr>\n",
       "      <th>11</th>\n",
       "      <td>b oppo reno 10x zoom review price features \\ oppo opporeno oppof11pro opporeno10xzoom android</td>\n",
       "      <td>2022-07-03 13:56:07+00:00</td>\n",
       "      <td>b oppo reno 10x zoom review price features \\ oppo opporeno oppof11pro opporeno10xzoom android</td>\n",
       "      <td>0.00</td>\n",
       "      <td></td>\n",
       "      <td>{oppo, opporeno10xzoom, reno, b, android, price, zoom, review, features}</td>\n",
       "    </tr>\n",
       "    <tr>\n",
       "      <th>12</th>\n",
       "      <td>b oneplus 7 amp oneplus 7 pro oxygenos 12 with android 12 open beta 1 released on 1st july 2022 read more</td>\n",
       "      <td>2022-07-01 15:59:39+00:00</td>\n",
       "      <td>b oneplus 7 amp oneplus 7 pro oxygenos 12 with android 12 open beta 1 released on 1st july 2022 read more</td>\n",
       "      <td>0.25</td>\n",
       "      <td></td>\n",
       "      <td>{b, july, beta, read}</td>\n",
       "    </tr>\n",
       "    <tr>\n",
       "      <th>13</th>\n",
       "      <td>b paranoid android sapphire beta 2 is now available for the oneplus 7 pro download it on our website \\</td>\n",
       "      <td>2022-07-01 14:40:29+00:00</td>\n",
       "      <td>b paranoid android sapphire beta 2 is now available for the oneplus 7 pro download it on our website \\</td>\n",
       "      <td>0.40</td>\n",
       "      <td>for available</td>\n",
       "      <td>{website, b, sapphire, paranoid, android, \\, beta, download}</td>\n",
       "    </tr>\n",
       "    <tr>\n",
       "      <th>14</th>\n",
       "      <td>b paranoid android sapphire beta 2 is now available for the oneplus 7 pro download it on our website \\</td>\n",
       "      <td>2022-07-01 14:29:38+00:00</td>\n",
       "      <td>b paranoid android sapphire beta 2 is now available for the oneplus 7 pro download it on our website \\</td>\n",
       "      <td>0.40</td>\n",
       "      <td>for available</td>\n",
       "      <td>{website, b, sapphire, paranoid, android, \\, beta, download}</td>\n",
       "    </tr>\n",
       "    <tr>\n",
       "      <th>15</th>\n",
       "      <td>b paranoid android sapphire beta 2 is now available for the oneplus 7 pro download it on our website</td>\n",
       "      <td>2022-07-01 14:28:02+00:00</td>\n",
       "      <td>b paranoid android sapphire beta 2 is now available for the oneplus 7 pro download it on our website</td>\n",
       "      <td>0.40</td>\n",
       "      <td>for available</td>\n",
       "      <td>{website, b, sapphire, paranoid, android, beta, download}</td>\n",
       "    </tr>\n",
       "    <tr>\n",
       "      <th>16</th>\n",
       "      <td>b oneplus launched the nord 2t mid range phone in india oneplus oneplus5 oneplus6 oneplus6t oneplus7</td>\n",
       "      <td>2022-07-01 12:50:39+00:00</td>\n",
       "      <td>b oneplus launched the nord 2t mid range phone in india oneplus oneplus5 oneplus6 oneplus6t oneplus7</td>\n",
       "      <td>0.00</td>\n",
       "      <td></td>\n",
       "      <td>{oneplus7, range, oneplus5, b, phone, nord, oneplus6, oneplus6t, mid}</td>\n",
       "    </tr>\n",
       "    <tr>\n",
       "      <th>17</th>\n",
       "      <td>b oneplus releases android 12 beta for its oneplus 7 oneplus 7 pro oneplus 7t and oneplus 7t pro models</td>\n",
       "      <td>2022-07-01 09:37:22+00:00</td>\n",
       "      <td>b oneplus releases android 12 beta for its oneplus 7 oneplus 7 pro oneplus 7t and oneplus 7t pro models</td>\n",
       "      <td>0.00</td>\n",
       "      <td></td>\n",
       "      <td>{oneplus, b, models, beta}</td>\n",
       "    </tr>\n",
       "    <tr>\n",
       "      <th>18</th>\n",
       "      <td>b oneplus 7 series picks up oxygenos 12 open beta 1 update \\ oneplus7 oneplus7pro</td>\n",
       "      <td>2022-07-01 09:29:09+00:00</td>\n",
       "      <td>b oneplus 7 series picks up oxygenos 12 open beta 1 update \\ oneplus7 oneplus7pro</td>\n",
       "      <td>0.00</td>\n",
       "      <td></td>\n",
       "      <td>{b, series, beta, \\}</td>\n",
       "    </tr>\n",
       "    <tr>\n",
       "      <th>19</th>\n",
       "      <td>b oneplus 7 7t pae l update oxygenos 12 beta con android 12 android12 oneplus7 oneplus7pro oneplus7t</td>\n",
       "      <td>2022-07-01 09:15:57+00:00</td>\n",
       "      <td>b oneplus 7 7t pae l update oxygenos 12 beta con android 12 android12 oneplus7 oneplus7pro oneplus7t</td>\n",
       "      <td>0.00</td>\n",
       "      <td></td>\n",
       "      <td>{con, oxygenos, oneplus7t, b, l, pae, beta, android12}</td>\n",
       "    </tr>\n",
       "    <tr>\n",
       "      <th>20</th>\n",
       "      <td>b oxygenos 12 open beta 1 finally released for the oneplus 7 7 pro 7t 7t pro news oxygenos12 oneplus7 oneplus7t</td>\n",
       "      <td>2022-07-01 04:40:26+00:00</td>\n",
       "      <td>b oxygenos 12 open beta 1 finally released for the oneplus 7 7 pro 7t 7t pro news oxygenos12 oneplus7 oneplus7t</td>\n",
       "      <td>0.00</td>\n",
       "      <td></td>\n",
       "      <td>{oneplus7, oxygenos12, oneplus7t, b, news, beta}</td>\n",
       "    </tr>\n",
       "  </tbody>\n",
       "</table>\n",
       "</div>"
      ],
      "text/plain": [
       "                                                                                                              tweets  \\\n",
       "0                    b sky after rain sunset clouds shotononeplus oneplus oneplus7pro nfta nftfam nftgiveaway photo    \n",
       "1                    b sky after rain sunset clouds shotononeplus oneplus oneplus7pro nfta nftfam nftgiveaway photo    \n",
       "2     b 2019 s oneplus 7 oneplus 7t oneplus 7 pro oneplus 7t pro series will soon receive oxygenos 12 stable update    \n",
       "3                                                                    notingphone1 coming soon i am oneplus7pro user    \n",
       "4              i was using oneplus7pro and after having system update it got slow and it took more time to charge s    \n",
       "5                                                                              oneplus7pro now it is coz of updates    \n",
       "6    b oneplus 7 pro 7t and 7t pro can try paranoid android sapphire beta 2 news oneplus7pro oneplus7t oneplus7tpro    \n",
       "7                                                   b wallpapers dotted everywhere in wales oneplus9pro oneplus7pro    \n",
       "8                                                   b wallpapers dotted everywhere in wales oneplus9pro oneplus7pro    \n",
       "9                                                     wallpapers dotted everywhere in wales oneplus9pro oneplus7pro    \n",
       "10                  b oneplus 8 pro will have 120hz display \\ breakingnews oneplus oneplus8 oneplus7pro oneplus7t of   \n",
       "11                    b oppo reno 10x zoom review price features \\ oppo opporeno oppof11pro opporeno10xzoom android    \n",
       "12        b oneplus 7 amp oneplus 7 pro oxygenos 12 with android 12 open beta 1 released on 1st july 2022 read more    \n",
       "13           b paranoid android sapphire beta 2 is now available for the oneplus 7 pro download it on our website \\    \n",
       "14           b paranoid android sapphire beta 2 is now available for the oneplus 7 pro download it on our website \\    \n",
       "15             b paranoid android sapphire beta 2 is now available for the oneplus 7 pro download it on our website    \n",
       "16             b oneplus launched the nord 2t mid range phone in india oneplus oneplus5 oneplus6 oneplus6t oneplus7    \n",
       "17          b oneplus releases android 12 beta for its oneplus 7 oneplus 7 pro oneplus 7t and oneplus 7t pro models    \n",
       "18                                b oneplus 7 series picks up oxygenos 12 open beta 1 update \\ oneplus7 oneplus7pro    \n",
       "19             b oneplus 7 7t pae l update oxygenos 12 beta con android 12 android12 oneplus7 oneplus7pro oneplus7t    \n",
       "20  b oxygenos 12 open beta 1 finally released for the oneplus 7 7 pro 7t 7t pro news oxygenos12 oneplus7 oneplus7t    \n",
       "\n",
       "                  created_on  \\\n",
       "0  2022-07-09 21:41:48+00:00   \n",
       "1  2022-07-09 13:54:35+00:00   \n",
       "2  2022-07-09 10:00:14+00:00   \n",
       "3  2022-07-08 21:31:57+00:00   \n",
       "4  2022-07-08 19:17:31+00:00   \n",
       "5  2022-07-07 16:59:28+00:00   \n",
       "6  2022-07-05 13:05:56+00:00   \n",
       "7  2022-07-03 17:05:56+00:00   \n",
       "8  2022-07-03 15:34:31+00:00   \n",
       "9  2022-07-03 14:53:43+00:00   \n",
       "10 2022-07-03 13:57:00+00:00   \n",
       "11 2022-07-03 13:56:07+00:00   \n",
       "12 2022-07-01 15:59:39+00:00   \n",
       "13 2022-07-01 14:40:29+00:00   \n",
       "14 2022-07-01 14:29:38+00:00   \n",
       "15 2022-07-01 14:28:02+00:00   \n",
       "16 2022-07-01 12:50:39+00:00   \n",
       "17 2022-07-01 09:37:22+00:00   \n",
       "18 2022-07-01 09:29:09+00:00   \n",
       "19 2022-07-01 09:15:57+00:00   \n",
       "20 2022-07-01 04:40:26+00:00   \n",
       "\n",
       "                                                                                                            Opinion  \\\n",
       "0                    b sky after rain sunset clouds shotononeplus oneplus oneplus7pro nfta nftfam nftgiveaway photo   \n",
       "1                    b sky after rain sunset clouds shotononeplus oneplus oneplus7pro nfta nftfam nftgiveaway photo   \n",
       "2     b 2019 s oneplus 7 oneplus 7t oneplus 7 pro oneplus 7t pro series will soon receive oxygenos 12 stable update   \n",
       "3                                                                    notingphone1 coming soon i am oneplus7pro user   \n",
       "4              i was using oneplus7pro and after having system update it got slow and it took more time to charge s   \n",
       "5                                                                              oneplus7pro now it is coz of updates   \n",
       "6    b oneplus 7 pro 7t and 7t pro can try paranoid android sapphire beta 2 news oneplus7pro oneplus7t oneplus7tpro   \n",
       "7                                                   b wallpapers dotted everywhere in wales oneplus9pro oneplus7pro   \n",
       "8                                                   b wallpapers dotted everywhere in wales oneplus9pro oneplus7pro   \n",
       "9                                                     wallpapers dotted everywhere in wales oneplus9pro oneplus7pro   \n",
       "10                 b oneplus 8 pro will have 120hz display \\ breakingnews oneplus oneplus8 oneplus7pro oneplus7t of   \n",
       "11                    b oppo reno 10x zoom review price features \\ oppo opporeno oppof11pro opporeno10xzoom android   \n",
       "12        b oneplus 7 amp oneplus 7 pro oxygenos 12 with android 12 open beta 1 released on 1st july 2022 read more   \n",
       "13           b paranoid android sapphire beta 2 is now available for the oneplus 7 pro download it on our website \\   \n",
       "14           b paranoid android sapphire beta 2 is now available for the oneplus 7 pro download it on our website \\   \n",
       "15             b paranoid android sapphire beta 2 is now available for the oneplus 7 pro download it on our website   \n",
       "16             b oneplus launched the nord 2t mid range phone in india oneplus oneplus5 oneplus6 oneplus6t oneplus7   \n",
       "17          b oneplus releases android 12 beta for its oneplus 7 oneplus 7 pro oneplus 7t and oneplus 7t pro models   \n",
       "18                                b oneplus 7 series picks up oxygenos 12 open beta 1 update \\ oneplus7 oneplus7pro   \n",
       "19             b oneplus 7 7t pae l update oxygenos 12 beta con android 12 android12 oneplus7 oneplus7pro oneplus7t   \n",
       "20  b oxygenos 12 open beta 1 finally released for the oneplus 7 7 pro 7t 7t pro news oxygenos12 oneplus7 oneplus7t   \n",
       "\n",
       "    Polarity    Descriptors  \\\n",
       "0       0.00                  \n",
       "1       0.00                  \n",
       "2       0.00                  \n",
       "3       0.00                  \n",
       "4       0.10           slow   \n",
       "5       0.00                  \n",
       "6       0.00                  \n",
       "7       0.00                  \n",
       "8       0.00                  \n",
       "9       0.00                  \n",
       "10      0.00                  \n",
       "11      0.00                  \n",
       "12      0.25                  \n",
       "13      0.40  for available   \n",
       "14      0.40  for available   \n",
       "15      0.40  for available   \n",
       "16      0.00                  \n",
       "17      0.00                  \n",
       "18      0.00                  \n",
       "19      0.00                  \n",
       "20      0.00                  \n",
       "\n",
       "                                                                Descriptors1  \n",
       "0                                      {clouds, sunset, photo, b, sky, rain}  \n",
       "1                                      {clouds, sunset, photo, b, sky, rain}  \n",
       "2                                           {update, oxygenos, b, series, s}  \n",
       "3                                                                     {user}  \n",
       "4                                                       {system, time, s, i}  \n",
       "5                                                             {coz, updates}  \n",
       "6                                             {pro, b, sapphire, news, beta}  \n",
       "7                                                     {b, wallpapers, wales}  \n",
       "8                                                     {b, wallpapers, wales}  \n",
       "9                                                        {wallpapers, wales}  \n",
       "10                                           {pro, oneplus7t, b, \\, display}  \n",
       "11  {oppo, opporeno10xzoom, reno, b, android, price, zoom, review, features}  \n",
       "12                                                     {b, july, beta, read}  \n",
       "13              {website, b, sapphire, paranoid, android, \\, beta, download}  \n",
       "14              {website, b, sapphire, paranoid, android, \\, beta, download}  \n",
       "15                 {website, b, sapphire, paranoid, android, beta, download}  \n",
       "16     {oneplus7, range, oneplus5, b, phone, nord, oneplus6, oneplus6t, mid}  \n",
       "17                                                {oneplus, b, models, beta}  \n",
       "18                                                      {b, series, beta, \\}  \n",
       "19                    {con, oxygenos, oneplus7t, b, l, pae, beta, android12}  \n",
       "20                          {oneplus7, oxygenos12, oneplus7t, b, news, beta}  "
      ]
     },
     "execution_count": 459,
     "metadata": {},
     "output_type": "execute_result"
    }
   ],
   "source": [
    "twitter_content2"
   ]
  },
  {
   "cell_type": "markdown",
   "id": "96cbcb1e",
   "metadata": {},
   "source": [
    "# POLARITY ANALYSIS"
   ]
  },
  {
   "cell_type": "code",
   "execution_count": 460,
   "id": "92238b07",
   "metadata": {},
   "outputs": [
    {
     "data": {
      "image/png": "[encoded data removed]",
      "text/plain": [
       "<Figure size 432x288 with 1 Axes>"
      ]
     },
     "metadata": {
      "needs_background": "light"
     },
     "output_type": "display_data"
    }
   ],
   "source": [
    "ax = sns.histplot(twitter_content2[\"Polarity\"],\n",
    "                  bins=np.arange(-1,1,0.2)\n",
    "                  ).set_title('Histogram of Polarities (Aspect = \"Color\")')\n",
    "plt.show()"
   ]
  },
  {
   "cell_type": "code",
   "execution_count": 461,
   "id": "07637368",
   "metadata": {},
   "outputs": [],
   "source": [
    "# save the chart figure\n",
    "fig = ax.get_figure()\n",
    "fig.savefig('Polarity_Distribution.png', \n",
    "            dpi=75, \n",
    "            bbox_inches=\"tight\")"
   ]
  },
  {
   "cell_type": "markdown",
   "id": "2825b467",
   "metadata": {},
   "source": [
    "# Descriptor Analysis (n-gramming)"
   ]
  },
  {
   "cell_type": "code",
   "execution_count": 462,
   "id": "b422f4f7",
   "metadata": {},
   "outputs": [],
   "source": [
    "positives = twitter_content2[twitter_content2[\"Polarity\"] > 0] # polarity greater than 0\n",
    "negatives = twitter_content2[twitter_content2[\"Polarity\"] == 0] # polarity less than 0"
   ]
  },
  {
   "cell_type": "code",
   "execution_count": 463,
   "id": "2899720e",
   "metadata": {},
   "outputs": [],
   "source": [
    "from collections import Counter"
   ]
  },
  {
   "cell_type": "code",
   "execution_count": 464,
   "id": "5c1b25d3",
   "metadata": {},
   "outputs": [],
   "source": [
    "def ngrams(text, n):\n",
    "     return zip(*[text[i:] for i in range(n)])\n",
    "     \n",
    "def display_ngram_frequency(corpus, n, display):\n",
    "    \"\"\"\n",
    "    Generate a DataFrame of n-grams and their frequencies.\n",
    "    \"\"\"\n",
    "    ngram_counts = Counter(ngrams(corpus.split(), n))\n",
    "    most_commmon = ngram_counts.most_common(display)\n",
    "\n",
    "    ngram = []\n",
    "    count = []\n",
    "    for i in range(0,len(most_commmon)):\n",
    "        ngram.append(\" \".join(most_commmon[i][0]))\n",
    "        count.append(most_commmon[i][1])\n",
    "\n",
    "    if n > 3:\n",
    "        col = f\"{n}-gram\"\n",
    "    if n == 3:\n",
    "        col = 'Tri-gram'\n",
    "    if n == 2:\n",
    "        col = 'Bi-gram'\n",
    "\n",
    "    return pd.DataFrame(zip(ngram, count), columns=[col, \"Count\"])"
   ]
  },
  {
   "cell_type": "code",
   "execution_count": 465,
   "id": "39113b5e",
   "metadata": {},
   "outputs": [],
   "source": [
    "# list all negative descriptors in a single string\n",
    "descriptors_negative_opinions = negatives[\"Descriptors\"].tolist()\n",
    "descriptors_negative_opinions = \" \".join(descriptors_negative_opinions)\n",
    "\n",
    "# positives\n",
    "descriptors_positive_opinions = positives[\"Descriptors\"].tolist()\n",
    "descriptors_positive_opinions = \" \".join(descriptors_positive_opinions)"
   ]
  },
  {
   "cell_type": "code",
   "execution_count": 466,
   "id": "2caa1fc8",
   "metadata": {},
   "outputs": [
    {
     "data": {
      "text/plain": [
       "4              slow\n",
       "12                 \n",
       "13    for available\n",
       "14    for available\n",
       "15    for available\n",
       "Name: Descriptors, dtype: object"
      ]
     },
     "execution_count": 466,
     "metadata": {},
     "output_type": "execute_result"
    }
   ],
   "source": [
    "positives[\"Descriptors\"]"
   ]
  },
  {
   "cell_type": "code",
   "execution_count": 467,
   "id": "d093b8f1",
   "metadata": {},
   "outputs": [
    {
     "data": {
      "text/html": [
       "<div>\n",
       "<style scoped>\n",
       "    .dataframe tbody tr th:only-of-type {\n",
       "        vertical-align: middle;\n",
       "    }\n",
       "\n",
       "    .dataframe tbody tr th {\n",
       "        vertical-align: top;\n",
       "    }\n",
       "\n",
       "    .dataframe thead th {\n",
       "        text-align: right;\n",
       "    }\n",
       "</style>\n",
       "<table border=\"1\" class=\"dataframe\">\n",
       "  <thead>\n",
       "    <tr style=\"text-align: right;\">\n",
       "      <th></th>\n",
       "      <th>Tri-gram</th>\n",
       "      <th>Count</th>\n",
       "    </tr>\n",
       "  </thead>\n",
       "  <tbody>\n",
       "    <tr>\n",
       "      <th>0</th>\n",
       "      <td>for available for</td>\n",
       "      <td>2</td>\n",
       "    </tr>\n",
       "    <tr>\n",
       "      <th>1</th>\n",
       "      <td>available for available</td>\n",
       "      <td>2</td>\n",
       "    </tr>\n",
       "    <tr>\n",
       "      <th>2</th>\n",
       "      <td>slow for available</td>\n",
       "      <td>1</td>\n",
       "    </tr>\n",
       "  </tbody>\n",
       "</table>\n",
       "</div>"
      ],
      "text/plain": [
       "                  Tri-gram  Count\n",
       "0        for available for      2\n",
       "1  available for available      2\n",
       "2       slow for available      1"
      ]
     },
     "execution_count": 467,
     "metadata": {},
     "output_type": "execute_result"
    }
   ],
   "source": [
    "display_ngram_frequency(descriptors_positive_opinions, n=3\n",
    "                        , display=4)"
   ]
  },
  {
   "cell_type": "code",
   "execution_count": 468,
   "id": "265f5a44",
   "metadata": {},
   "outputs": [
    {
     "name": "stdout",
     "output_type": "stream",
     "text": [
      "Requirement already satisfied: wordcloud in /Users/ankushsingal/opt/anaconda3/lib/python3.8/site-packages (1.8.2.2)\n",
      "Requirement already satisfied: matplotlib in /Users/ankushsingal/opt/anaconda3/lib/python3.8/site-packages (from wordcloud) (3.3.4)\n",
      "Requirement already satisfied: pillow in /Users/ankushsingal/opt/anaconda3/lib/python3.8/site-packages (from wordcloud) (8.4.0)\n",
      "Requirement already satisfied: numpy>=1.6.1 in /Users/ankushsingal/opt/anaconda3/lib/python3.8/site-packages (from wordcloud) (1.19.5)\n",
      "Requirement already satisfied: python-dateutil>=2.1 in /Users/ankushsingal/opt/anaconda3/lib/python3.8/site-packages (from matplotlib->wordcloud) (2.8.2)\n",
      "Requirement already satisfied: cycler>=0.10 in /Users/ankushsingal/opt/anaconda3/lib/python3.8/site-packages (from matplotlib->wordcloud) (0.11.0)\n",
      "Requirement already satisfied: pyparsing!=2.0.4,!=2.1.2,!=2.1.6,>=2.0.3 in /Users/ankushsingal/opt/anaconda3/lib/python3.8/site-packages (from matplotlib->wordcloud) (2.4.7)\n",
      "Requirement already satisfied: kiwisolver>=1.0.1 in /Users/ankushsingal/opt/anaconda3/lib/python3.8/site-packages (from matplotlib->wordcloud) (1.3.1)\n",
      "Requirement already satisfied: six>=1.5 in /Users/ankushsingal/opt/anaconda3/lib/python3.8/site-packages (from python-dateutil>=2.1->matplotlib->wordcloud) (1.16.0)\n",
      "\u001b[33mWARNING: You are using pip version 21.2.4; however, version 22.1.2 is available.\n",
      "You should consider upgrading via the '/Users/ankushsingal/opt/anaconda3/bin/python -m pip install --upgrade pip' command.\u001b[0m\n"
     ]
    }
   ],
   "source": [
    "!pip install wordcloud"
   ]
  },
  {
   "cell_type": "code",
   "execution_count": 469,
   "id": "5dd4f325",
   "metadata": {},
   "outputs": [],
   "source": [
    "from wordcloud import WordCloud\n",
    "\n",
    "def generate_wordcloud(text):\n",
    "    \"\"\"\n",
    "    Generate word cloud images.\n",
    "    \"\"\"\n",
    "    wordcloud = WordCloud(collocations=False, \n",
    "                          background_color=\"black\",\n",
    "                          max_words=50).generate(text)\n",
    "    \n",
    "    # set the figure size\n",
    "    plt.figure(figsize=[8,10])\n",
    "\n",
    "    # plot the wordcloud\n",
    "    plt.imshow(wordcloud, interpolation=\"bilinear\")\n",
    "\n",
    "    # remove plot axes\n",
    "    plt.axis(\"off\")"
   ]
  },
  {
   "cell_type": "code",
   "execution_count": 470,
   "id": "5814b9d5",
   "metadata": {},
   "outputs": [
    {
     "data": {
      "image/png": "[encoded data removed]",
      "text/plain": [
       "<Figure size 576x720 with 1 Axes>"
      ]
     },
     "metadata": {
      "needs_background": "light"
     },
     "output_type": "display_data"
    }
   ],
   "source": [
    "# WordCloud: descriptors extracted from negative opinions\n",
    "generate_wordcloud(descriptors_positive_opinions)"
   ]
  },
  {
   "cell_type": "code",
   "execution_count": null,
   "id": "ad6c8faf",
   "metadata": {},
   "outputs": [],
   "source": []
  }
 ],
 "metadata": {
  "kernelspec": {
   "display_name": "Python 3 (ipykernel)",
   "language": "python",
   "name": "python3"
  },
  "language_info": {
   "codemirror_mode": {
    "name": "ipython",
    "version": 3
   },
   "file_extension": ".py",
   "mimetype": "text/x-python",
   "name": "python",
   "nbconvert_exporter": "python",
   "pygments_lexer": "ipython3",
   "version": "3.7.13"
  }
 },
 "nbformat": 4,
 "nbformat_minor": 5
}
